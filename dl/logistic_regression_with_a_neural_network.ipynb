{
 "cells": [
  {
   "cell_type": "markdown",
   "id": "stuffed-working",
   "metadata": {},
   "source": [
    "## Common steps for pre-processing a new datasets\n",
    "\n",
    "- Figure out the dimensions and shapes of the problem\n",
    "- Reshape the dataset\n",
    "- Standardize the data\n",
    "\n",
    "\n",
    "## Building the parts of our algorithm\n",
    "\n",
    "- Define the model structure(such as number of input features)\n",
    "- Initialize the model's parameters\n",
    "- Loop:\n",
    "  - Calculate current loss(forward propagation)\n",
    "  - Calculate current gradient(back propagation)\n",
    "  - Update parameters(gradient descent)"
   ]
  }
 ],
 "metadata": {
  "kernelspec": {
   "display_name": "Python 3",
   "language": "python",
   "name": "python3"
  },
  "language_info": {
   "codemirror_mode": {
    "name": "ipython",
    "version": 3
   },
   "file_extension": ".py",
   "mimetype": "text/x-python",
   "name": "python",
   "nbconvert_exporter": "python",
   "pygments_lexer": "ipython3",
   "version": "3.9.1"
  }
 },
 "nbformat": 4,
 "nbformat_minor": 5
}
