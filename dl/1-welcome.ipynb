{
 "cells": [
  {
   "cell_type": "markdown",
   "id": "blank-ivory",
   "metadata": {},
   "source": [
    "- AI is the new Electricity\n",
    "\n",
    "## Waht you'll learn\n",
    "\n",
    "1. Neural Networks and Deep Learning\n",
    "2. Improving Deep Neural Networks\n",
    "3. Structuring your Machine Learning\n",
    "4. Convolutional Neural Networks: CNN\n",
    "5. Natural Language Processing: Building sequence models: RNN"
   ]
  },
  {
   "cell_type": "markdown",
   "id": "planned-judge",
   "metadata": {},
   "source": [
    "# What is a neural network\n",
    "\n",
    "- Housing Price Prediction\n",
    "- ReLU\n"
   ]
  },
  {
   "cell_type": "markdown",
   "id": "champion-option",
   "metadata": {},
   "source": [
    "## Supervised Learning with Neural Networks\n",
    "\n",
    "- Structured Data\n",
    "- Unstructured Data： audio, image, text.."
   ]
  },
  {
   "cell_type": "markdown",
   "id": "coordinated-slide",
   "metadata": {},
   "source": [
    "## Scale drives deep learning process\n",
    "\n",
    "- Data\n",
    "- Computation\n",
    "- Algorithms"
   ]
  },
  {
   "cell_type": "code",
   "execution_count": null,
   "id": "formed-absorption",
   "metadata": {},
   "outputs": [],
   "source": []
  }
 ],
 "metadata": {
  "kernelspec": {
   "display_name": "Python 3",
   "language": "python",
   "name": "python3"
  },
  "language_info": {
   "codemirror_mode": {
    "name": "ipython",
    "version": 3
   },
   "file_extension": ".py",
   "mimetype": "text/x-python",
   "name": "python",
   "nbconvert_exporter": "python",
   "pygments_lexer": "ipython3",
   "version": "3.9.1"
  }
 },
 "nbformat": 4,
 "nbformat_minor": 5
}
