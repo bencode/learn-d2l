{
 "cells": [
  {
   "cell_type": "code",
   "execution_count": 2,
   "id": "written-valley",
   "metadata": {},
   "outputs": [],
   "source": [
    "import numpy as np"
   ]
  },
  {
   "cell_type": "code",
   "execution_count": 9,
   "id": "verbal-handbook",
   "metadata": {},
   "outputs": [],
   "source": [
    "names = np.array(['Bob', 'Joe', 'Joe', 'Will', 'Bob', 'Will', 'Joe'])"
   ]
  },
  {
   "cell_type": "code",
   "execution_count": 10,
   "id": "placed-motorcycle",
   "metadata": {},
   "outputs": [],
   "source": [
    "data = np.random.randn(7, 4)"
   ]
  },
  {
   "cell_type": "code",
   "execution_count": 11,
   "id": "compact-smile",
   "metadata": {},
   "outputs": [
    {
     "data": {
      "text/plain": [
       "array([[ 8.95038146e-01,  6.35281936e-01, -1.74799634e-01,\n",
       "        -1.25981606e+00],\n",
       "       [-1.16362847e+00,  3.85820398e-01, -2.09242879e-01,\n",
       "        -1.38831648e+00],\n",
       "       [ 1.13907351e+00, -1.33437703e+00, -3.72596540e-01,\n",
       "        -1.54439209e-01],\n",
       "       [ 7.15492515e-01,  4.36043281e-01,  4.86246571e-01,\n",
       "        -7.69430112e-04],\n",
       "       [-3.56635353e-01, -2.43791943e-01,  3.56424245e-01,\n",
       "         2.19795028e+00],\n",
       "       [-2.77832625e-01,  7.34880001e-01,  5.12508310e-02,\n",
       "        -1.06480845e+00],\n",
       "       [ 1.17700709e+00,  8.10136636e-01, -2.39897365e-01,\n",
       "         2.69884082e-01]])"
      ]
     },
     "execution_count": 11,
     "metadata": {},
     "output_type": "execute_result"
    }
   ],
   "source": [
    "data"
   ]
  },
  {
   "cell_type": "code",
   "execution_count": 8,
   "id": "prospective-presentation",
   "metadata": {},
   "outputs": [
    {
     "data": {
      "text/plain": [
       "array([ True, False, False, False,  True, False, False, False])"
      ]
     },
     "execution_count": 8,
     "metadata": {},
     "output_type": "execute_result"
    }
   ],
   "source": [
    "names =='Bob'"
   ]
  },
  {
   "cell_type": "code",
   "execution_count": 12,
   "id": "widespread-wrapping",
   "metadata": {},
   "outputs": [
    {
     "data": {
      "text/plain": [
       "array([[ 0.89503815,  0.63528194, -0.17479963, -1.25981606],\n",
       "       [-0.35663535, -0.24379194,  0.35642425,  2.19795028]])"
      ]
     },
     "execution_count": 12,
     "metadata": {},
     "output_type": "execute_result"
    }
   ],
   "source": [
    "data[names == 'Bob']"
   ]
  },
  {
   "cell_type": "code",
   "execution_count": 13,
   "id": "ahead-label",
   "metadata": {},
   "outputs": [],
   "source": [
    "masks = (names == 'Bob') | (names == 'Will')"
   ]
  },
  {
   "cell_type": "code",
   "execution_count": 14,
   "id": "alike-garden",
   "metadata": {},
   "outputs": [
    {
     "data": {
      "text/plain": [
       "array([[ 8.95038146e-01,  6.35281936e-01, -1.74799634e-01,\n",
       "        -1.25981606e+00],\n",
       "       [ 7.15492515e-01,  4.36043281e-01,  4.86246571e-01,\n",
       "        -7.69430112e-04],\n",
       "       [-3.56635353e-01, -2.43791943e-01,  3.56424245e-01,\n",
       "         2.19795028e+00],\n",
       "       [-2.77832625e-01,  7.34880001e-01,  5.12508310e-02,\n",
       "        -1.06480845e+00]])"
      ]
     },
     "execution_count": 14,
     "metadata": {},
     "output_type": "execute_result"
    }
   ],
   "source": [
    "data[masks]"
   ]
  },
  {
   "cell_type": "code",
   "execution_count": 15,
   "id": "amber-power",
   "metadata": {},
   "outputs": [
    {
     "data": {
      "text/plain": [
       "array([-1.74799634e-01, -1.25981606e+00, -1.16362847e+00, -2.09242879e-01,\n",
       "       -1.38831648e+00, -1.33437703e+00, -3.72596540e-01, -1.54439209e-01,\n",
       "       -7.69430112e-04, -3.56635353e-01, -2.43791943e-01, -2.77832625e-01,\n",
       "       -1.06480845e+00, -2.39897365e-01])"
      ]
     },
     "execution_count": 15,
     "metadata": {},
     "output_type": "execute_result"
    }
   ],
   "source": [
    "data[data < 0]"
   ]
  },
  {
   "cell_type": "code",
   "execution_count": 16,
   "id": "successful-perception",
   "metadata": {},
   "outputs": [],
   "source": [
    "data[data < 0] = 0"
   ]
  },
  {
   "cell_type": "code",
   "execution_count": 17,
   "id": "stone-multimedia",
   "metadata": {},
   "outputs": [
    {
     "data": {
      "text/plain": [
       "array([[0.89503815, 0.63528194, 0.        , 0.        ],\n",
       "       [0.        , 0.3858204 , 0.        , 0.        ],\n",
       "       [1.13907351, 0.        , 0.        , 0.        ],\n",
       "       [0.71549252, 0.43604328, 0.48624657, 0.        ],\n",
       "       [0.        , 0.        , 0.35642425, 2.19795028],\n",
       "       [0.        , 0.73488   , 0.05125083, 0.        ],\n",
       "       [1.17700709, 0.81013664, 0.        , 0.26988408]])"
      ]
     },
     "execution_count": 17,
     "metadata": {},
     "output_type": "execute_result"
    }
   ],
   "source": [
    "data"
   ]
  },
  {
   "cell_type": "code",
   "execution_count": 18,
   "id": "committed-spain",
   "metadata": {},
   "outputs": [],
   "source": [
    "arr = np.empty((8, 4))"
   ]
  },
  {
   "cell_type": "code",
   "execution_count": 19,
   "id": "alpha-inventory",
   "metadata": {},
   "outputs": [
    {
     "data": {
      "text/plain": [
       "array([[4.68103322e-310, 0.00000000e+000, 3.40464278e-312,\n",
       "        1.73073372e-308],\n",
       "       [1.33360295e+241, 8.39037136e-311, 1.21572612e-224,\n",
       "        3.91408755e-313],\n",
       "       [3.52077427e+016, 3.10806900e+242, 1.11065260e-310,\n",
       "        7.35652748e+223],\n",
       "       [1.06264277e+248, 1.16507137e-310, 1.46972270e-200,\n",
       "        7.73367997e-313],\n",
       "       [6.52094399e-308, 1.33360371e+241, 1.43659115e-310,\n",
       "        2.71115985e-181],\n",
       "       [6.24828292e-313, 2.88067937e+214, 7.07805157e-008,\n",
       "        4.02983294e-270],\n",
       "       [4.02977523e-270, 4.02977523e-270, 2.53186535e-212,\n",
       "        1.37063382e-231],\n",
       "       [5.69344953e-270, 2.75926415e-306, 8.76096091e-230,\n",
       "        1.43279037e-322]])"
      ]
     },
     "execution_count": 19,
     "metadata": {},
     "output_type": "execute_result"
    }
   ],
   "source": [
    "arr"
   ]
  },
  {
   "cell_type": "code",
   "execution_count": 20,
   "id": "indoor-tunnel",
   "metadata": {},
   "outputs": [],
   "source": [
    "for i in range(8):\n",
    "    arr[i] = i"
   ]
  },
  {
   "cell_type": "code",
   "execution_count": 21,
   "id": "pretty-silicon",
   "metadata": {},
   "outputs": [
    {
     "data": {
      "text/plain": [
       "array([[0., 0., 0., 0.],\n",
       "       [1., 1., 1., 1.],\n",
       "       [2., 2., 2., 2.],\n",
       "       [3., 3., 3., 3.],\n",
       "       [4., 4., 4., 4.],\n",
       "       [5., 5., 5., 5.],\n",
       "       [6., 6., 6., 6.],\n",
       "       [7., 7., 7., 7.]])"
      ]
     },
     "execution_count": 21,
     "metadata": {},
     "output_type": "execute_result"
    }
   ],
   "source": [
    "arr"
   ]
  },
  {
   "cell_type": "code",
   "execution_count": 23,
   "id": "electrical-manchester",
   "metadata": {},
   "outputs": [
    {
     "data": {
      "text/plain": [
       "array([[4., 4., 4., 4.],\n",
       "       [3., 3., 3., 3.],\n",
       "       [0., 0., 0., 0.],\n",
       "       [6., 6., 6., 6.]])"
      ]
     },
     "execution_count": 23,
     "metadata": {},
     "output_type": "execute_result"
    }
   ],
   "source": [
    "arr[[4, 3, 0, 6]]"
   ]
  },
  {
   "cell_type": "code",
   "execution_count": 24,
   "id": "micro-jacksonville",
   "metadata": {},
   "outputs": [],
   "source": [
    "arr = np.arange(32).reshape((8, 4))"
   ]
  },
  {
   "cell_type": "code",
   "execution_count": 25,
   "id": "scientific-plant",
   "metadata": {},
   "outputs": [
    {
     "data": {
      "text/plain": [
       "array([[ 0,  1,  2,  3],\n",
       "       [ 4,  5,  6,  7],\n",
       "       [ 8,  9, 10, 11],\n",
       "       [12, 13, 14, 15],\n",
       "       [16, 17, 18, 19],\n",
       "       [20, 21, 22, 23],\n",
       "       [24, 25, 26, 27],\n",
       "       [28, 29, 30, 31]])"
      ]
     },
     "execution_count": 25,
     "metadata": {},
     "output_type": "execute_result"
    }
   ],
   "source": [
    "arr"
   ]
  },
  {
   "cell_type": "code",
   "execution_count": 26,
   "id": "protective-cargo",
   "metadata": {},
   "outputs": [],
   "source": [
    "arr = np.arange(15).reshape((3, 5))"
   ]
  },
  {
   "cell_type": "code",
   "execution_count": 27,
   "id": "focused-coffee",
   "metadata": {},
   "outputs": [
    {
     "data": {
      "text/plain": [
       "array([[ 0,  1,  2,  3,  4],\n",
       "       [ 5,  6,  7,  8,  9],\n",
       "       [10, 11, 12, 13, 14]])"
      ]
     },
     "execution_count": 27,
     "metadata": {},
     "output_type": "execute_result"
    }
   ],
   "source": [
    "arr"
   ]
  },
  {
   "cell_type": "code",
   "execution_count": 28,
   "id": "educational-second",
   "metadata": {},
   "outputs": [
    {
     "data": {
      "text/plain": [
       "array([[ 0,  5, 10],\n",
       "       [ 1,  6, 11],\n",
       "       [ 2,  7, 12],\n",
       "       [ 3,  8, 13],\n",
       "       [ 4,  9, 14]])"
      ]
     },
     "execution_count": 28,
     "metadata": {},
     "output_type": "execute_result"
    }
   ],
   "source": [
    "arr.T"
   ]
  },
  {
   "cell_type": "code",
   "execution_count": 30,
   "id": "removable-royal",
   "metadata": {},
   "outputs": [
    {
     "data": {
      "text/plain": [
       "array([[-1.48354239,  0.81716882,  0.31373193],\n",
       "       [ 1.49164594, -1.36353712, -0.60378067],\n",
       "       [-0.46794166,  0.01993824,  0.84400605],\n",
       "       [ 0.98733486,  0.4510533 , -1.94843485],\n",
       "       [ 1.07392235, -2.34396374, -0.76893192],\n",
       "       [ 1.14872149, -2.53316049, -1.01649523]])"
      ]
     },
     "execution_count": 30,
     "metadata": {},
     "output_type": "execute_result"
    }
   ],
   "source": [
    "np.random.randn(6, 3)"
   ]
  },
  {
   "cell_type": "code",
   "execution_count": 31,
   "id": "outer-border",
   "metadata": {},
   "outputs": [],
   "source": [
    "arr = np.arange(16).reshape((2, 2, 4))"
   ]
  },
  {
   "cell_type": "code",
   "execution_count": 32,
   "id": "sized-designation",
   "metadata": {},
   "outputs": [
    {
     "data": {
      "text/plain": [
       "array([[[ 0,  1,  2,  3],\n",
       "        [ 4,  5,  6,  7]],\n",
       "\n",
       "       [[ 8,  9, 10, 11],\n",
       "        [12, 13, 14, 15]]])"
      ]
     },
     "execution_count": 32,
     "metadata": {},
     "output_type": "execute_result"
    }
   ],
   "source": [
    "arr"
   ]
  },
  {
   "cell_type": "code",
   "execution_count": 33,
   "id": "accomplished-funds",
   "metadata": {},
   "outputs": [
    {
     "data": {
      "text/plain": [
       "array([[[ 0,  1,  2,  3],\n",
       "        [ 8,  9, 10, 11]],\n",
       "\n",
       "       [[ 4,  5,  6,  7],\n",
       "        [12, 13, 14, 15]]])"
      ]
     },
     "execution_count": 33,
     "metadata": {},
     "output_type": "execute_result"
    }
   ],
   "source": [
    "arr.transpose((1, 0, 2))"
   ]
  },
  {
   "cell_type": "code",
   "execution_count": 34,
   "id": "statutory-porcelain",
   "metadata": {},
   "outputs": [
    {
     "data": {
      "text/plain": [
       "array([0, 1, 2, 3, 4, 5, 6, 7, 8, 9])"
      ]
     },
     "execution_count": 34,
     "metadata": {},
     "output_type": "execute_result"
    }
   ],
   "source": [
    "np.arange(10)"
   ]
  },
  {
   "cell_type": "code",
   "execution_count": 35,
   "id": "dominican-secretariat",
   "metadata": {},
   "outputs": [
    {
     "data": {
      "text/plain": [
       "array([[[0.        , 1.        , 1.41421356, 1.73205081],\n",
       "        [2.        , 2.23606798, 2.44948974, 2.64575131]],\n",
       "\n",
       "       [[2.82842712, 3.        , 3.16227766, 3.31662479],\n",
       "        [3.46410162, 3.60555128, 3.74165739, 3.87298335]]])"
      ]
     },
     "execution_count": 35,
     "metadata": {},
     "output_type": "execute_result"
    }
   ],
   "source": [
    "np.sqrt(arr)"
   ]
  },
  {
   "cell_type": "code",
   "execution_count": 36,
   "id": "silent-priest",
   "metadata": {},
   "outputs": [
    {
     "data": {
      "text/plain": [
       "array([[[ 0,  1,  2,  3],\n",
       "        [ 4,  5,  6,  7]],\n",
       "\n",
       "       [[ 8,  9, 10, 11],\n",
       "        [12, 13, 14, 15]]])"
      ]
     },
     "execution_count": 36,
     "metadata": {},
     "output_type": "execute_result"
    }
   ],
   "source": [
    "arr"
   ]
  },
  {
   "cell_type": "code",
   "execution_count": 38,
   "id": "electrical-comment",
   "metadata": {},
   "outputs": [],
   "source": [
    "data = np.random.randn(7, 2)"
   ]
  },
  {
   "cell_type": "code",
   "execution_count": 39,
   "id": "potential-passion",
   "metadata": {},
   "outputs": [
    {
     "data": {
      "text/plain": [
       "array([[-0.93508454,  0.83536017],\n",
       "       [-0.42613514, -0.09046124],\n",
       "       [ 1.04650055, -0.79905441],\n",
       "       [-0.79524014,  0.21374013],\n",
       "       [ 1.98671548,  1.33804972],\n",
       "       [ 0.3519804 , -0.06246791],\n",
       "       [ 1.07793123, -1.27194182]])"
      ]
     },
     "execution_count": 39,
     "metadata": {},
     "output_type": "execute_result"
    }
   ],
   "source": [
    "data"
   ]
  },
  {
   "cell_type": "code",
   "execution_count": 40,
   "id": "graduate-johnston",
   "metadata": {},
   "outputs": [
    {
     "data": {
      "text/plain": [
       "(array([[-0.93508454,  0.83536017],\n",
       "        [-0.42613514, -0.09046124],\n",
       "        [ 0.04650055, -0.79905441],\n",
       "        [-0.79524014,  0.21374013],\n",
       "        [ 0.98671548,  0.33804972],\n",
       "        [ 0.3519804 , -0.06246791],\n",
       "        [ 0.07793123, -0.27194182]]),\n",
       " array([[-0.,  0.],\n",
       "        [-0., -0.],\n",
       "        [ 1., -0.],\n",
       "        [-0.,  0.],\n",
       "        [ 1.,  1.],\n",
       "        [ 0., -0.],\n",
       "        [ 1., -1.]]))"
      ]
     },
     "execution_count": 40,
     "metadata": {},
     "output_type": "execute_result"
    }
   ],
   "source": [
    "np.modf(data)"
   ]
  },
  {
   "cell_type": "code",
   "execution_count": 41,
   "id": "virgin-circuit",
   "metadata": {},
   "outputs": [],
   "source": [
    "import matplotlib.pyplot as plt"
   ]
  },
  {
   "cell_type": "code",
   "execution_count": 42,
   "id": "defined-berlin",
   "metadata": {},
   "outputs": [],
   "source": [
    "points = np.arange(-5, 5, 0.01)"
   ]
  },
  {
   "cell_type": "code",
   "execution_count": 43,
   "id": "extraordinary-flashing",
   "metadata": {},
   "outputs": [],
   "source": [
    "xs, ys = np.meshgrid(points, points)"
   ]
  },
  {
   "cell_type": "code",
   "execution_count": 44,
   "id": "strong-documentary",
   "metadata": {},
   "outputs": [
    {
     "data": {
      "text/plain": [
       "array([[-5.  , -4.99, -4.98, ...,  4.97,  4.98,  4.99],\n",
       "       [-5.  , -4.99, -4.98, ...,  4.97,  4.98,  4.99],\n",
       "       [-5.  , -4.99, -4.98, ...,  4.97,  4.98,  4.99],\n",
       "       ...,\n",
       "       [-5.  , -4.99, -4.98, ...,  4.97,  4.98,  4.99],\n",
       "       [-5.  , -4.99, -4.98, ...,  4.97,  4.98,  4.99],\n",
       "       [-5.  , -4.99, -4.98, ...,  4.97,  4.98,  4.99]])"
      ]
     },
     "execution_count": 44,
     "metadata": {},
     "output_type": "execute_result"
    }
   ],
   "source": [
    "xs"
   ]
  },
  {
   "cell_type": "code",
   "execution_count": 45,
   "id": "fifteen-scheduling",
   "metadata": {},
   "outputs": [
    {
     "data": {
      "text/plain": [
       "array([[-5.  , -5.  , -5.  , ..., -5.  , -5.  , -5.  ],\n",
       "       [-4.99, -4.99, -4.99, ..., -4.99, -4.99, -4.99],\n",
       "       [-4.98, -4.98, -4.98, ..., -4.98, -4.98, -4.98],\n",
       "       ...,\n",
       "       [ 4.97,  4.97,  4.97, ...,  4.97,  4.97,  4.97],\n",
       "       [ 4.98,  4.98,  4.98, ...,  4.98,  4.98,  4.98],\n",
       "       [ 4.99,  4.99,  4.99, ...,  4.99,  4.99,  4.99]])"
      ]
     },
     "execution_count": 45,
     "metadata": {},
     "output_type": "execute_result"
    }
   ],
   "source": [
    "ys"
   ]
  },
  {
   "cell_type": "code",
   "execution_count": 46,
   "id": "lonely-judges",
   "metadata": {},
   "outputs": [],
   "source": [
    "z = np.sqrt(xs ** 2, ys ** 2)"
   ]
  },
  {
   "cell_type": "code",
   "execution_count": 47,
   "id": "quiet-strand",
   "metadata": {},
   "outputs": [
    {
     "data": {
      "text/plain": [
       "array([[5.  , 4.99, 4.98, ..., 4.97, 4.98, 4.99],\n",
       "       [5.  , 4.99, 4.98, ..., 4.97, 4.98, 4.99],\n",
       "       [5.  , 4.99, 4.98, ..., 4.97, 4.98, 4.99],\n",
       "       ...,\n",
       "       [5.  , 4.99, 4.98, ..., 4.97, 4.98, 4.99],\n",
       "       [5.  , 4.99, 4.98, ..., 4.97, 4.98, 4.99],\n",
       "       [5.  , 4.99, 4.98, ..., 4.97, 4.98, 4.99]])"
      ]
     },
     "execution_count": 47,
     "metadata": {},
     "output_type": "execute_result"
    }
   ],
   "source": [
    "z"
   ]
  },
  {
   "cell_type": "code",
   "execution_count": 49,
   "id": "thrown-symbol",
   "metadata": {},
   "outputs": [
    {
     "data": {
      "text/plain": [
       "<matplotlib.image.AxesImage at 0x7f2466e03d00>"
      ]
     },
     "execution_count": 49,
     "metadata": {},
     "output_type": "execute_result"
    },
    {
     "data": {
      "image/png": "[encoded data removed]",
      "text/plain": [
       "<Figure size 432x288 with 1 Axes>"
      ]
     },
     "metadata": {
      "needs_background": "light"
     },
     "output_type": "display_data"
    }
   ],
   "source": [
    "plt.imshow(z, cmap=plt.cm.gray)"
   ]
  },
  {
   "cell_type": "code",
   "execution_count": 50,
   "id": "native-delay",
   "metadata": {},
   "outputs": [
    {
     "data": {
      "text/plain": [
       "Text(0.5, 1.0, 'Image plot of $\\\\sqrt{x^2 + y^2}$ for a grid of values')"
      ]
     },
     "execution_count": 50,
     "metadata": {},
     "output_type": "execute_result"
    },
    {
     "data": {
      "image/png": "[encoded data removed]",
      "text/plain": [
       "<Figure size 432x288 with 1 Axes>"
      ]
     },
     "metadata": {
      "needs_background": "light"
     },
     "output_type": "display_data"
    }
   ],
   "source": [
    "plt.title('Image plot of $\\sqrt{x^2 + y^2}$ for a grid of values')"
   ]
  },
  {
   "cell_type": "code",
   "execution_count": 51,
   "id": "compliant-investment",
   "metadata": {},
   "outputs": [],
   "source": [
    "xarr = np.array([1.1, 1.2, 1.3, 1.4, 1.5])\n",
    "yarr = np.array([2.1, 2.2, 2.3, 2.4, 2.5])"
   ]
  },
  {
   "cell_type": "code",
   "execution_count": 52,
   "id": "mounted-triumph",
   "metadata": {},
   "outputs": [],
   "source": [
    "cond = np.array([True, False, True, True, False])"
   ]
  },
  {
   "cell_type": "code",
   "execution_count": 53,
   "id": "veterinary-minority",
   "metadata": {},
   "outputs": [],
   "source": [
    "result = np.where(cond, xarr, yarr)"
   ]
  },
  {
   "cell_type": "code",
   "execution_count": 55,
   "id": "iraqi-climb",
   "metadata": {},
   "outputs": [
    {
     "data": {
      "text/plain": [
       "array([1.1, 2.2, 1.3, 1.4, 2.5])"
      ]
     },
     "execution_count": 55,
     "metadata": {},
     "output_type": "execute_result"
    }
   ],
   "source": [
    "result"
   ]
  },
  {
   "cell_type": "code",
   "execution_count": 56,
   "id": "acoustic-insertion",
   "metadata": {},
   "outputs": [],
   "source": [
    "arr = np.random.randn(4, 4)"
   ]
  },
  {
   "cell_type": "code",
   "execution_count": 57,
   "id": "described-isaac",
   "metadata": {},
   "outputs": [
    {
     "data": {
      "text/plain": [
       "array([[-0.77266344, -0.41043918, -0.72903703,  0.17139453],\n",
       "       [ 0.80798211,  0.7408328 ,  0.00810543, -0.12682906],\n",
       "       [-0.92855469,  2.12061376,  0.97848805,  0.7980656 ],\n",
       "       [ 0.53709905,  2.25283091, -1.6017508 ,  0.00851555]])"
      ]
     },
     "execution_count": 57,
     "metadata": {},
     "output_type": "execute_result"
    }
   ],
   "source": [
    "arr"
   ]
  },
  {
   "cell_type": "code",
   "execution_count": 58,
   "id": "minus-richards",
   "metadata": {},
   "outputs": [
    {
     "data": {
      "text/plain": [
       "array([[False, False, False,  True],\n",
       "       [ True,  True,  True, False],\n",
       "       [False,  True,  True,  True],\n",
       "       [ True,  True, False,  True]])"
      ]
     },
     "execution_count": 58,
     "metadata": {},
     "output_type": "execute_result"
    }
   ],
   "source": [
    "arr > 0"
   ]
  },
  {
   "cell_type": "code",
   "execution_count": 59,
   "id": "mighty-sender",
   "metadata": {},
   "outputs": [
    {
     "data": {
      "text/plain": [
       "array([[-2, -2, -2,  2],\n",
       "       [ 2,  2,  2, -2],\n",
       "       [-2,  2,  2,  2],\n",
       "       [ 2,  2, -2,  2]])"
      ]
     },
     "execution_count": 59,
     "metadata": {},
     "output_type": "execute_result"
    }
   ],
   "source": [
    "np.where(arr > 0, 2, -2)"
   ]
  },
  {
   "cell_type": "code",
   "execution_count": 60,
   "id": "three-strength",
   "metadata": {},
   "outputs": [
    {
     "data": {
      "text/plain": [
       "array([[-0.77266344, -0.41043918, -0.72903703,  2.        ],\n",
       "       [ 2.        ,  2.        ,  2.        , -0.12682906],\n",
       "       [-0.92855469,  2.        ,  2.        ,  2.        ],\n",
       "       [ 2.        ,  2.        , -1.6017508 ,  2.        ]])"
      ]
     },
     "execution_count": 60,
     "metadata": {},
     "output_type": "execute_result"
    }
   ],
   "source": [
    "np.where(arr > 0, 2, arr)"
   ]
  },
  {
   "cell_type": "code",
   "execution_count": 61,
   "id": "consecutive-texture",
   "metadata": {},
   "outputs": [],
   "source": [
    "arr = np.random.randn(5, 4)"
   ]
  },
  {
   "cell_type": "code",
   "execution_count": 62,
   "id": "presidential-basketball",
   "metadata": {},
   "outputs": [
    {
     "data": {
      "text/plain": [
       "array([[-1.8927731 , -0.24183303,  1.95716847,  1.38261111],\n",
       "       [ 1.13117717,  1.22844037, -1.11418549,  0.05647674],\n",
       "       [-0.69044008,  0.94960937, -0.00705628,  0.94478796],\n",
       "       [ 1.29231463, -3.06761086, -0.01100242, -0.30411035],\n",
       "       [ 1.51750765,  0.80416923, -1.83468992,  0.56690548]])"
      ]
     },
     "execution_count": 62,
     "metadata": {},
     "output_type": "execute_result"
    }
   ],
   "source": [
    "arr"
   ]
  },
  {
   "cell_type": "code",
   "execution_count": 63,
   "id": "frequent-peninsula",
   "metadata": {},
   "outputs": [
    {
     "data": {
      "text/plain": [
       "array([ 0.30129336,  0.3254772 ,  0.29922524, -0.52260225,  0.26347311])"
      ]
     },
     "execution_count": 63,
     "metadata": {},
     "output_type": "execute_result"
    }
   ],
   "source": [
    "arr.mean(axis=1)"
   ]
  },
  {
   "cell_type": "code",
   "execution_count": 64,
   "id": "awful-classroom",
   "metadata": {},
   "outputs": [
    {
     "data": {
      "text/plain": [
       "array([ 1.35778628, -0.32722492, -1.00976565,  2.64667094])"
      ]
     },
     "execution_count": 64,
     "metadata": {},
     "output_type": "execute_result"
    }
   ],
   "source": [
    "arr.sum(axis=0)"
   ]
  },
  {
   "cell_type": "code",
   "execution_count": 65,
   "id": "iraqi-soviet",
   "metadata": {},
   "outputs": [
    {
     "data": {
      "text/plain": [
       "0.1333733323715281"
      ]
     },
     "execution_count": 65,
     "metadata": {},
     "output_type": "execute_result"
    }
   ],
   "source": [
    "arr.mean()"
   ]
  },
  {
   "cell_type": "code",
   "execution_count": 66,
   "id": "motivated-masters",
   "metadata": {},
   "outputs": [
    {
     "data": {
      "text/plain": [
       "2.667466647430562"
      ]
     },
     "execution_count": 66,
     "metadata": {},
     "output_type": "execute_result"
    }
   ],
   "source": [
    "arr.sum()"
   ]
  },
  {
   "cell_type": "code",
   "execution_count": 68,
   "id": "running-grace",
   "metadata": {},
   "outputs": [],
   "source": [
    "arr = np.random.randn(100)"
   ]
  },
  {
   "cell_type": "code",
   "execution_count": 69,
   "id": "juvenile-answer",
   "metadata": {
    "scrolled": true
   },
   "outputs": [
    {
     "data": {
      "text/plain": [
       "array([ 0.44434002,  1.04460769,  2.04554155,  0.98490175,  1.12303978,\n",
       "       -0.11621442,  0.15725506, -1.92304342, -0.30926288, -0.02795209,\n",
       "        0.20780404,  1.64051516, -0.67287008,  0.29073197,  1.10020024,\n",
       "       -0.80678188,  1.66174676,  0.04312545,  1.15089864, -0.4218358 ,\n",
       "        0.64659016,  0.42053577,  0.34900178,  0.42896811,  0.63195368,\n",
       "       -1.54848689,  0.25187964, -1.77755507, -0.16855138,  2.07084797,\n",
       "       -0.37835652, -0.98009106,  1.94366722,  1.26622761, -0.04537403,\n",
       "       -0.61181997,  0.2403045 , -0.95921415, -0.66883673, -1.26623589,\n",
       "       -0.68834976,  1.20740905, -2.03496374,  0.81135617, -1.59663197,\n",
       "       -0.61971135,  0.95518461,  0.64154648, -0.62965017, -0.88111981,\n",
       "        0.10176314, -1.20534555, -0.07260105, -1.16814832, -1.63264194,\n",
       "        1.98702981,  1.5121473 , -0.70690139,  1.30512116,  1.35707713,\n",
       "       -0.29148374,  1.33965337,  0.43339536,  1.3372759 ,  1.83406659,\n",
       "       -1.06009759,  1.51140099,  0.51732664,  1.08107754,  0.22643543,\n",
       "        0.07128425,  0.8474188 , -0.96033103,  0.7350347 , -1.08909491,\n",
       "        0.61761147,  0.09942223,  1.33443441,  0.34920486, -1.30529334,\n",
       "        0.3152965 , -1.55145614, -0.07538038,  0.19326502,  0.06777621,\n",
       "        0.43998831, -0.24334436,  1.54549395, -1.0989496 ,  1.58538646,\n",
       "       -0.402746  ,  0.23256488, -1.24011367, -1.64711289,  1.89424592,\n",
       "        2.16961657,  0.05234361, -0.38162643, -0.16510852, -0.28072582])"
      ]
     },
     "execution_count": 69,
     "metadata": {},
     "output_type": "execute_result"
    }
   ],
   "source": [
    "arr"
   ]
  },
  {
   "cell_type": "code",
   "execution_count": 71,
   "id": "fallen-sculpture",
   "metadata": {},
   "outputs": [
    {
     "data": {
      "text/plain": [
       "57"
      ]
     },
     "execution_count": 71,
     "metadata": {},
     "output_type": "execute_result"
    }
   ],
   "source": [
    "(arr > 0).sum()"
   ]
  },
  {
   "cell_type": "code",
   "execution_count": 72,
   "id": "sunrise-oregon",
   "metadata": {},
   "outputs": [
    {
     "ename": "NameError",
     "evalue": "name 'bools' is not defined",
     "output_type": "error",
     "traceback": [
      "\u001b[0;31m---------------------------------------------------------------------------\u001b[0m",
      "\u001b[0;31mNameError\u001b[0m                                 Traceback (most recent call last)",
      "\u001b[0;32m<ipython-input-72-32b7622b2cc3>\u001b[0m in \u001b[0;36m<module>\u001b[0;34m\u001b[0m\n\u001b[0;32m----> 1\u001b[0;31m \u001b[0mbools\u001b[0m\u001b[0;34m.\u001b[0m\u001b[0many\u001b[0m\u001b[0;34m(\u001b[0m\u001b[0;34m)\u001b[0m\u001b[0;34m\u001b[0m\u001b[0;34m\u001b[0m\u001b[0m\n\u001b[0m",
      "\u001b[0;31mNameError\u001b[0m: name 'bools' is not defined"
     ]
    }
   ],
   "source": [
    "bools.any()"
   ]
  },
  {
   "cell_type": "code",
   "execution_count": 73,
   "id": "intensive-anthropology",
   "metadata": {},
   "outputs": [],
   "source": [
    "bools = np.array([True, False, False, True])"
   ]
  },
  {
   "cell_type": "code",
   "execution_count": 74,
   "id": "collected-lightweight",
   "metadata": {},
   "outputs": [
    {
     "data": {
      "text/plain": [
       "True"
      ]
     },
     "execution_count": 74,
     "metadata": {},
     "output_type": "execute_result"
    }
   ],
   "source": [
    "bools.any()"
   ]
  },
  {
   "cell_type": "code",
   "execution_count": 76,
   "id": "facial-bhutan",
   "metadata": {},
   "outputs": [
    {
     "data": {
      "text/plain": [
       "False"
      ]
     },
     "execution_count": 76,
     "metadata": {},
     "output_type": "execute_result"
    }
   ],
   "source": [
    "bools.all()"
   ]
  },
  {
   "cell_type": "code",
   "execution_count": 77,
   "id": "informational-estonia",
   "metadata": {},
   "outputs": [],
   "source": [
    "arr = np.random.randn(6)"
   ]
  },
  {
   "cell_type": "code",
   "execution_count": 78,
   "id": "fundamental-clarity",
   "metadata": {},
   "outputs": [
    {
     "data": {
      "text/plain": [
       "array([-1.75026677, -1.8144571 ,  1.70702406, -0.61965703,  1.52613397,\n",
       "       -1.28957691])"
      ]
     },
     "execution_count": 78,
     "metadata": {},
     "output_type": "execute_result"
    }
   ],
   "source": [
    "arr"
   ]
  },
  {
   "cell_type": "code",
   "execution_count": 79,
   "id": "permanent-outreach",
   "metadata": {},
   "outputs": [],
   "source": [
    "arr.sort()"
   ]
  },
  {
   "cell_type": "code",
   "execution_count": 80,
   "id": "beginning-horizontal",
   "metadata": {},
   "outputs": [
    {
     "data": {
      "text/plain": [
       "array([-1.8144571 , -1.75026677, -1.28957691, -0.61965703,  1.52613397,\n",
       "        1.70702406])"
      ]
     },
     "execution_count": 80,
     "metadata": {},
     "output_type": "execute_result"
    }
   ],
   "source": [
    "arr"
   ]
  },
  {
   "cell_type": "code",
   "execution_count": 81,
   "id": "graduate-mother",
   "metadata": {},
   "outputs": [],
   "source": [
    "arr = np.random.randn(5 ,3)"
   ]
  },
  {
   "cell_type": "code",
   "execution_count": 82,
   "id": "bacterial-discovery",
   "metadata": {},
   "outputs": [
    {
     "data": {
      "text/plain": [
       "array([[-2.00184178,  1.11171991,  0.09152005],\n",
       "       [-0.94144845,  1.22896805,  0.25864416],\n",
       "       [-0.58122025,  0.55564509,  1.22379099],\n",
       "       [ 0.80460094, -1.1526905 , -0.00331386],\n",
       "       [-0.98871897, -0.62510944,  1.07616183]])"
      ]
     },
     "execution_count": 82,
     "metadata": {},
     "output_type": "execute_result"
    }
   ],
   "source": [
    "arr"
   ]
  },
  {
   "cell_type": "code",
   "execution_count": 83,
   "id": "colonial-wayne",
   "metadata": {},
   "outputs": [],
   "source": [
    "arr.sort(1)"
   ]
  },
  {
   "cell_type": "code",
   "execution_count": 84,
   "id": "other-buyer",
   "metadata": {},
   "outputs": [
    {
     "data": {
      "text/plain": [
       "array([[-2.00184178,  0.09152005,  1.11171991],\n",
       "       [-0.94144845,  0.25864416,  1.22896805],\n",
       "       [-0.58122025,  0.55564509,  1.22379099],\n",
       "       [-1.1526905 , -0.00331386,  0.80460094],\n",
       "       [-0.98871897, -0.62510944,  1.07616183]])"
      ]
     },
     "execution_count": 84,
     "metadata": {},
     "output_type": "execute_result"
    }
   ],
   "source": [
    "arr"
   ]
  },
  {
   "cell_type": "code",
   "execution_count": 85,
   "id": "undefined-stretch",
   "metadata": {},
   "outputs": [],
   "source": [
    "arr.sort()"
   ]
  },
  {
   "cell_type": "code",
   "execution_count": 86,
   "id": "small-psychiatry",
   "metadata": {},
   "outputs": [
    {
     "data": {
      "text/plain": [
       "array([[-2.00184178,  0.09152005,  1.11171991],\n",
       "       [-0.94144845,  0.25864416,  1.22896805],\n",
       "       [-0.58122025,  0.55564509,  1.22379099],\n",
       "       [-1.1526905 , -0.00331386,  0.80460094],\n",
       "       [-0.98871897, -0.62510944,  1.07616183]])"
      ]
     },
     "execution_count": 86,
     "metadata": {},
     "output_type": "execute_result"
    }
   ],
   "source": [
    "arr"
   ]
  },
  {
   "cell_type": "code",
   "execution_count": 87,
   "id": "sexual-privilege",
   "metadata": {},
   "outputs": [],
   "source": [
    "arr.sort(0)"
   ]
  },
  {
   "cell_type": "code",
   "execution_count": 88,
   "id": "advisory-yellow",
   "metadata": {},
   "outputs": [
    {
     "data": {
      "text/plain": [
       "array([[-2.00184178, -0.62510944,  0.80460094],\n",
       "       [-1.1526905 , -0.00331386,  1.07616183],\n",
       "       [-0.98871897,  0.09152005,  1.11171991],\n",
       "       [-0.94144845,  0.25864416,  1.22379099],\n",
       "       [-0.58122025,  0.55564509,  1.22896805]])"
      ]
     },
     "execution_count": 88,
     "metadata": {},
     "output_type": "execute_result"
    }
   ],
   "source": [
    "arr"
   ]
  },
  {
   "cell_type": "code",
   "execution_count": 89,
   "id": "unauthorized-semester",
   "metadata": {},
   "outputs": [],
   "source": [
    "arr.sort(1)"
   ]
  },
  {
   "cell_type": "code",
   "execution_count": 90,
   "id": "genetic-statement",
   "metadata": {},
   "outputs": [
    {
     "data": {
      "text/plain": [
       "array([[-2.00184178, -0.62510944,  0.80460094],\n",
       "       [-1.1526905 , -0.00331386,  1.07616183],\n",
       "       [-0.98871897,  0.09152005,  1.11171991],\n",
       "       [-0.94144845,  0.25864416,  1.22379099],\n",
       "       [-0.58122025,  0.55564509,  1.22896805]])"
      ]
     },
     "execution_count": 90,
     "metadata": {},
     "output_type": "execute_result"
    }
   ],
   "source": [
    "arr"
   ]
  },
  {
   "cell_type": "code",
   "execution_count": 91,
   "id": "french-marijuana",
   "metadata": {},
   "outputs": [],
   "source": [
    "names = np.array([['Bob', 'Joe', 'Will', 'Bob', 'Will', 'Joe', 'Joe']])"
   ]
  },
  {
   "cell_type": "code",
   "execution_count": 94,
   "id": "republican-nigeria",
   "metadata": {},
   "outputs": [
    {
     "data": {
      "text/plain": [
       "array(['Bob', 'Joe', 'Will'], dtype='<U4')"
      ]
     },
     "execution_count": 94,
     "metadata": {},
     "output_type": "execute_result"
    }
   ],
   "source": [
    "np.unique(names)"
   ]
  },
  {
   "cell_type": "code",
   "execution_count": null,
   "id": "funded-transsexual",
   "metadata": {},
   "outputs": [],
   "source": []
  }
 ],
 "metadata": {
  "kernelspec": {
   "display_name": "Python 3",
   "language": "python",
   "name": "python3"
  },
  "language_info": {
   "codemirror_mode": {
    "name": "ipython",
    "version": 3
   },
   "file_extension": ".py",
   "mimetype": "text/x-python",
   "name": "python",
   "nbconvert_exporter": "python",
   "pygments_lexer": "ipython3",
   "version": "3.9.1"
  }
 },
 "nbformat": 4,
 "nbformat_minor": 5
}
