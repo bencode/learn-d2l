{
 "cells": [
  {
   "cell_type": "code",
   "execution_count": 1,
   "id": "mighty-villa",
   "metadata": {},
   "outputs": [],
   "source": [
    "b = [1, 2, 3]\n",
    "b?  # 内省"
   ]
  },
  {
   "cell_type": "code",
   "execution_count": 2,
   "id": "indoor-syndication",
   "metadata": {},
   "outputs": [],
   "source": [
    "def add_numbers(a, b):\n",
    "    a + b"
   ]
  },
  {
   "cell_type": "code",
   "execution_count": 6,
   "id": "blond-institute",
   "metadata": {},
   "outputs": [],
   "source": [
    "add_numbers??"
   ]
  },
  {
   "cell_type": "code",
   "execution_count": 8,
   "id": "hungry-automation",
   "metadata": {},
   "outputs": [],
   "source": [
    "add_numbers?"
   ]
  },
  {
   "cell_type": "code",
   "execution_count": 14,
   "id": "novel-gothic",
   "metadata": {},
   "outputs": [
    {
     "name": "stdout",
     "output_type": "stream",
     "text": [
      "60.7 µs ± 5.85 µs per loop (mean ± std. dev. of 7 runs, 10000 loops each)\n"
     ]
    }
   ],
   "source": [
    "import numpy as np\n",
    "a = np.random.randn(100, 100)\n",
    "%timeit np.dot(a ,a)"
   ]
  },
  {
   "cell_type": "code",
   "execution_count": 15,
   "id": "second-destruction",
   "metadata": {},
   "outputs": [
    {
     "data": {
      "text/plain": [
       "'/home/bencode/work/d2l/da'"
      ]
     },
     "execution_count": 15,
     "metadata": {},
     "output_type": "execute_result"
    }
   ],
   "source": [
    "%pwd"
   ]
  },
  {
   "cell_type": "code",
   "execution_count": 16,
   "id": "after-missouri",
   "metadata": {},
   "outputs": [],
   "source": [
    "%quickref"
   ]
  },
  {
   "cell_type": "code",
   "execution_count": 17,
   "id": "coastal-infrastructure",
   "metadata": {},
   "outputs": [],
   "source": [
    "%magic"
   ]
  },
  {
   "cell_type": "code",
   "execution_count": 18,
   "id": "nearby-holocaust",
   "metadata": {},
   "outputs": [],
   "source": [
    "%matplotlib inline"
   ]
  },
  {
   "cell_type": "code",
   "execution_count": 19,
   "id": "negative-employer",
   "metadata": {},
   "outputs": [],
   "source": [
    "import matplotlib.pyplot as plt"
   ]
  },
  {
   "cell_type": "code",
   "execution_count": 20,
   "id": "rolled-brake",
   "metadata": {},
   "outputs": [
    {
     "data": {
      "text/plain": [
       "[<matplotlib.lines.Line2D at 0x7ff59880db80>]"
      ]
     },
     "execution_count": 20,
     "metadata": {},
     "output_type": "execute_result"
    },
    {
     "data": {
      "image/png": "[encoded data removed]",
      "text/plain": [
       "<Figure size 432x288 with 1 Axes>"
      ]
     },
     "metadata": {
      "needs_background": "light"
     },
     "output_type": "display_data"
    }
   ],
   "source": [
    "plt.plot(np.random.randn(50).cumsum())"
   ]
  },
  {
   "cell_type": "code",
   "execution_count": 21,
   "id": "helpful-burns",
   "metadata": {},
   "outputs": [
    {
     "data": {
      "text/plain": [
       "int"
      ]
     },
     "execution_count": 21,
     "metadata": {},
     "output_type": "execute_result"
    }
   ],
   "source": [
    "a = 5\n",
    "type(a)"
   ]
  },
  {
   "cell_type": "code",
   "execution_count": 22,
   "id": "dense-cabin",
   "metadata": {},
   "outputs": [
    {
     "data": {
      "text/plain": [
       "str"
      ]
     },
     "execution_count": 22,
     "metadata": {},
     "output_type": "execute_result"
    }
   ],
   "source": [
    "a = 'foo'\n",
    "type(a)"
   ]
  },
  {
   "cell_type": "code",
   "execution_count": 23,
   "id": "requested-worse",
   "metadata": {},
   "outputs": [
    {
     "data": {
      "text/plain": [
       "16"
      ]
     },
     "execution_count": 23,
     "metadata": {},
     "output_type": "execute_result"
    }
   ],
   "source": [
    "a = 2\n",
    "b = 4\n",
    "a ** b"
   ]
  },
  {
   "cell_type": "code",
   "execution_count": 24,
   "id": "civilian-butter",
   "metadata": {},
   "outputs": [
    {
     "data": {
      "text/plain": [
       "0"
      ]
     },
     "execution_count": 24,
     "metadata": {},
     "output_type": "execute_result"
    }
   ],
   "source": [
    "a // b"
   ]
  },
  {
   "cell_type": "code",
   "execution_count": 25,
   "id": "comparative-terror",
   "metadata": {},
   "outputs": [
    {
     "data": {
      "text/plain": [
       "33"
      ]
     },
     "execution_count": 25,
     "metadata": {},
     "output_type": "execute_result"
    }
   ],
   "source": [
    "100 // 3"
   ]
  },
  {
   "cell_type": "code",
   "execution_count": 27,
   "id": "appropriate-praise",
   "metadata": {},
   "outputs": [
    {
     "data": {
      "text/plain": [
       "3540704419445075440820365734140450167485504"
      ]
     },
     "execution_count": 27,
     "metadata": {},
     "output_type": "execute_result"
    }
   ],
   "source": [
    "ival = 12345678\n",
    "ival ** 6"
   ]
  },
  {
   "cell_type": "code",
   "execution_count": 28,
   "id": "absolute-karma",
   "metadata": {},
   "outputs": [],
   "source": [
    "fval = 7.243\n",
    "fval2 = 6.78e-5"
   ]
  },
  {
   "cell_type": "code",
   "execution_count": 29,
   "id": "alpine-complaint",
   "metadata": {},
   "outputs": [],
   "source": [
    "c = \"\"\"\n",
    "This is a long string bat\n",
    "spans multiple lines\n",
    "\"\"\""
   ]
  },
  {
   "cell_type": "code",
   "execution_count": 30,
   "id": "ambient-reliance",
   "metadata": {},
   "outputs": [
    {
     "data": {
      "text/plain": [
       "'5.6'"
      ]
     },
     "execution_count": 30,
     "metadata": {},
     "output_type": "execute_result"
    }
   ],
   "source": [
    "a = 5.6\n",
    "str(a)"
   ]
  },
  {
   "cell_type": "code",
   "execution_count": 31,
   "id": "organized-layout",
   "metadata": {},
   "outputs": [
    {
     "data": {
      "text/plain": [
       "['p', 'y', 't', 'h', 'o', 'n']"
      ]
     },
     "execution_count": 31,
     "metadata": {},
     "output_type": "execute_result"
    }
   ],
   "source": [
    "s = 'python'\n",
    "list(s)"
   ]
  },
  {
   "cell_type": "code",
   "execution_count": 32,
   "id": "demonstrated-estate",
   "metadata": {},
   "outputs": [
    {
     "data": {
      "text/plain": [
       "'pyth'"
      ]
     },
     "execution_count": 32,
     "metadata": {},
     "output_type": "execute_result"
    }
   ],
   "source": [
    "s[:4]"
   ]
  },
  {
   "cell_type": "code",
   "execution_count": 35,
   "id": "romance-square",
   "metadata": {},
   "outputs": [
    {
     "data": {
      "text/plain": [
       "'4.55 Argentine Pesos are worth US$1'"
      ]
     },
     "execution_count": 35,
     "metadata": {},
     "output_type": "execute_result"
    }
   ],
   "source": [
    "'{0:.2f} {1:s} are worth US${2:d}'.format(4.55, 'Argentine Pesos', 1)"
   ]
  },
  {
   "cell_type": "code",
   "execution_count": 36,
   "id": "renewable-thread",
   "metadata": {},
   "outputs": [
    {
     "data": {
      "text/plain": [
       "True"
      ]
     },
     "execution_count": 36,
     "metadata": {},
     "output_type": "execute_result"
    }
   ],
   "source": [
    "True and True\n"
   ]
  },
  {
   "cell_type": "code",
   "execution_count": 38,
   "id": "limiting-slovak",
   "metadata": {},
   "outputs": [
    {
     "data": {
      "text/plain": [
       "False"
      ]
     },
     "execution_count": 38,
     "metadata": {},
     "output_type": "execute_result"
    }
   ],
   "source": [
    "fval = '3.1415926'\n",
    "float(fval)\n",
    "int(3.14)\n",
    "bool(fval)\n",
    "bool(0)"
   ]
  },
  {
   "cell_type": "code",
   "execution_count": 39,
   "id": "noble-property",
   "metadata": {},
   "outputs": [],
   "source": [
    "a = None"
   ]
  },
  {
   "cell_type": "code",
   "execution_count": 40,
   "id": "front-bacteria",
   "metadata": {},
   "outputs": [],
   "source": [
    "if a is not None:\n",
    "    print(a)"
   ]
  },
  {
   "cell_type": "code",
   "execution_count": 41,
   "id": "emotional-defensive",
   "metadata": {},
   "outputs": [
    {
     "data": {
      "text/plain": [
       "NoneType"
      ]
     },
     "execution_count": 41,
     "metadata": {},
     "output_type": "execute_result"
    }
   ],
   "source": [
    "type(None)"
   ]
  },
  {
   "cell_type": "code",
   "execution_count": 42,
   "id": "documented-universal",
   "metadata": {},
   "outputs": [
    {
     "data": {
      "text/plain": [
       "30"
      ]
     },
     "execution_count": 42,
     "metadata": {},
     "output_type": "execute_result"
    }
   ],
   "source": [
    "from datetime import datetime, date, time\n",
    "dt = datetime(2011, 10, 29, 20, 30, 21)\n",
    "dt.day\n",
    "dt.minute"
   ]
  },
  {
   "cell_type": "code",
   "execution_count": 43,
   "id": "right-narrative",
   "metadata": {},
   "outputs": [
    {
     "data": {
      "text/plain": [
       "'10 29 2011 20:30'"
      ]
     },
     "execution_count": 43,
     "metadata": {},
     "output_type": "execute_result"
    }
   ],
   "source": [
    "dt.strftime('%m %d %Y %H:%M')"
   ]
  },
  {
   "cell_type": "code",
   "execution_count": 44,
   "id": "convenient-friday",
   "metadata": {},
   "outputs": [
    {
     "data": {
      "text/plain": [
       "datetime.time(20, 30, 21)"
      ]
     },
     "execution_count": 44,
     "metadata": {},
     "output_type": "execute_result"
    }
   ],
   "source": [
    "dt.time()"
   ]
  },
  {
   "cell_type": "code",
   "execution_count": 46,
   "id": "processed-migration",
   "metadata": {},
   "outputs": [
    {
     "name": "stdout",
     "output_type": "stream",
     "text": [
      "Equal to 0\n"
     ]
    }
   ],
   "source": [
    "x = 0\n",
    "if x < 0:\n",
    "    print('It is negative')\n",
    "    \n",
    "if x < 0:\n",
    "    print('a')\n",
    "elif x == 0:\n",
    "    print('Equal to 0')\n",
    "elif 0 < x < 5:\n",
    "    print('Positive but smaller than 5')\n",
    "else:\n",
    "    print('c')"
   ]
  },
  {
   "cell_type": "code",
   "execution_count": 47,
   "id": "computational-drawing",
   "metadata": {},
   "outputs": [
    {
     "data": {
      "text/plain": [
       "True"
      ]
     },
     "execution_count": 47,
     "metadata": {},
     "output_type": "execute_result"
    }
   ],
   "source": [
    "4 > 3 > 2 > 1"
   ]
  },
  {
   "cell_type": "code",
   "execution_count": 48,
   "id": "political-verification",
   "metadata": {},
   "outputs": [],
   "source": [
    "se = [1, 2, None, 5]\n",
    "total = 0\n",
    "for value in se:\n",
    "    if value is None:\n",
    "        continue\n",
    "    total += value"
   ]
  },
  {
   "cell_type": "code",
   "execution_count": 49,
   "id": "cutting-methodology",
   "metadata": {},
   "outputs": [
    {
     "data": {
      "text/plain": [
       "[0, 1, 2, 3, 4, 5, 6, 7, 8, 9]"
      ]
     },
     "execution_count": 49,
     "metadata": {},
     "output_type": "execute_result"
    }
   ],
   "source": [
    "list(range(10))"
   ]
  },
  {
   "cell_type": "code",
   "execution_count": 50,
   "id": "included-gnome",
   "metadata": {},
   "outputs": [],
   "source": [
    "value = 1 if 2 > 1 else 0"
   ]
  },
  {
   "cell_type": "code",
   "execution_count": 51,
   "id": "angry-exemption",
   "metadata": {},
   "outputs": [
    {
     "data": {
      "text/plain": [
       "1"
      ]
     },
     "execution_count": 51,
     "metadata": {},
     "output_type": "execute_result"
    }
   ],
   "source": [
    "value"
   ]
  },
  {
   "cell_type": "code",
   "execution_count": 52,
   "id": "indie-candidate",
   "metadata": {},
   "outputs": [],
   "source": [
    "tup = 4, 5, 6"
   ]
  },
  {
   "cell_type": "code",
   "execution_count": 53,
   "id": "hybrid-cinema",
   "metadata": {},
   "outputs": [
    {
     "data": {
      "text/plain": [
       "(4, 5, 6)"
      ]
     },
     "execution_count": 53,
     "metadata": {},
     "output_type": "execute_result"
    }
   ],
   "source": [
    "tup"
   ]
  },
  {
   "cell_type": "code",
   "execution_count": 54,
   "id": "incomplete-kuwait",
   "metadata": {},
   "outputs": [
    {
     "data": {
      "text/plain": [
       "4"
      ]
     },
     "execution_count": 54,
     "metadata": {},
     "output_type": "execute_result"
    }
   ],
   "source": [
    "tup[0]"
   ]
  },
  {
   "cell_type": "code",
   "execution_count": 56,
   "id": "altered-religion",
   "metadata": {},
   "outputs": [],
   "source": [
    "a, b, _ = tup"
   ]
  },
  {
   "cell_type": "code",
   "execution_count": 58,
   "id": "greek-fruit",
   "metadata": {},
   "outputs": [
    {
     "data": {
      "text/plain": [
       "(4, 5)"
      ]
     },
     "execution_count": 58,
     "metadata": {},
     "output_type": "execute_result"
    }
   ],
   "source": [
    "a, b"
   ]
  },
  {
   "cell_type": "code",
   "execution_count": 59,
   "id": "front-mason",
   "metadata": {},
   "outputs": [],
   "source": [
    "values = 1, 2, 3, 4, 5, 6"
   ]
  },
  {
   "cell_type": "code",
   "execution_count": 60,
   "id": "brave-isolation",
   "metadata": {},
   "outputs": [],
   "source": [
    "a, b, *_ = values"
   ]
  },
  {
   "cell_type": "code",
   "execution_count": 61,
   "id": "declared-startup",
   "metadata": {},
   "outputs": [
    {
     "data": {
      "text/plain": [
       "(1, 2)"
      ]
     },
     "execution_count": 61,
     "metadata": {},
     "output_type": "execute_result"
    }
   ],
   "source": [
    "a, b"
   ]
  },
  {
   "cell_type": "code",
   "execution_count": 63,
   "id": "norwegian-banana",
   "metadata": {},
   "outputs": [
    {
     "data": {
      "text/plain": [
       "1"
      ]
     },
     "execution_count": 63,
     "metadata": {},
     "output_type": "execute_result"
    }
   ],
   "source": [
    "values.count(1)"
   ]
  },
  {
   "cell_type": "code",
   "execution_count": 64,
   "id": "precise-typing",
   "metadata": {},
   "outputs": [],
   "source": [
    "a = (1, 1, 2, 3, 4, 4, 5, 5, 5)"
   ]
  },
  {
   "cell_type": "code",
   "execution_count": 65,
   "id": "superior-cooking",
   "metadata": {},
   "outputs": [
    {
     "data": {
      "text/plain": [
       "2"
      ]
     },
     "execution_count": 65,
     "metadata": {},
     "output_type": "execute_result"
    }
   ],
   "source": [
    "a.count(4)"
   ]
  },
  {
   "cell_type": "code",
   "execution_count": 67,
   "id": "public-dance",
   "metadata": {},
   "outputs": [],
   "source": [
    "list = [1, 2, 3]\n",
    "list.append(1)"
   ]
  },
  {
   "cell_type": "code",
   "execution_count": 68,
   "id": "caring-diesel",
   "metadata": {},
   "outputs": [
    {
     "data": {
      "text/plain": [
       "[1, 2, 3, 7, 8, 9]"
      ]
     },
     "execution_count": 68,
     "metadata": {},
     "output_type": "execute_result"
    }
   ],
   "source": [
    "[1, 2, 3] + [7, 8, 9]"
   ]
  },
  {
   "cell_type": "code",
   "execution_count": 69,
   "id": "banned-diabetes",
   "metadata": {},
   "outputs": [],
   "source": [
    "a = [7, 2, 5, 1, 3]"
   ]
  },
  {
   "cell_type": "code",
   "execution_count": 70,
   "id": "ongoing-circumstances",
   "metadata": {},
   "outputs": [],
   "source": [
    "a.sort()"
   ]
  },
  {
   "cell_type": "code",
   "execution_count": 71,
   "id": "careful-nutrition",
   "metadata": {},
   "outputs": [
    {
     "data": {
      "text/plain": [
       "[1, 2, 3, 5, 7]"
      ]
     },
     "execution_count": 71,
     "metadata": {},
     "output_type": "execute_result"
    }
   ],
   "source": [
    "a"
   ]
  },
  {
   "cell_type": "code",
   "execution_count": 72,
   "id": "international-stability",
   "metadata": {},
   "outputs": [
    {
     "name": "stdout",
     "output_type": "stream",
     "text": [
      "345\n",
      "123\n",
      "455\n"
     ]
    }
   ],
   "source": [
    "col = [345, 123, 455]\n",
    "for value in col:\n",
    "    print(value)"
   ]
  },
  {
   "cell_type": "code",
   "execution_count": 73,
   "id": "signal-warning",
   "metadata": {},
   "outputs": [
    {
     "name": "stdout",
     "output_type": "stream",
     "text": [
      "0 345\n",
      "1 123\n",
      "2 455\n"
     ]
    }
   ],
   "source": [
    "for i, value in enumerate(col):\n",
    "    print(i, value)"
   ]
  },
  {
   "cell_type": "code",
   "execution_count": 74,
   "id": "deluxe-victoria",
   "metadata": {},
   "outputs": [
    {
     "data": {
      "text/plain": [
       "[0, 1, 2, 2, 3, 6, 7]"
      ]
     },
     "execution_count": 74,
     "metadata": {},
     "output_type": "execute_result"
    }
   ],
   "source": [
    "sorted([7, 1, 2, 6, 0, 3, 2])"
   ]
  },
  {
   "cell_type": "code",
   "execution_count": 78,
   "id": "solid-lithuania",
   "metadata": {},
   "outputs": [
    {
     "data": {
      "text/plain": [
       "<zip at 0x7ff59890ccc0>"
      ]
     },
     "execution_count": 78,
     "metadata": {},
     "output_type": "execute_result"
    }
   ],
   "source": [
    "zip(['foo', 'bar', 'baz'], ['one', 'two', 'three'])"
   ]
  },
  {
   "cell_type": "code",
   "execution_count": 79,
   "id": "maritime-asset",
   "metadata": {},
   "outputs": [],
   "source": [
    "seq = ['foo', 'bar', 'baz']\n",
    "seq2 = ['one', 'two', 'three']\n",
    "zipped = zip(seq, seq2)"
   ]
  },
  {
   "cell_type": "code",
   "execution_count": 80,
   "id": "voluntary-mortality",
   "metadata": {},
   "outputs": [
    {
     "data": {
      "text/plain": [
       "<zip at 0x7ff598891700>"
      ]
     },
     "execution_count": 80,
     "metadata": {},
     "output_type": "execute_result"
    }
   ],
   "source": [
    "zipped"
   ]
  },
  {
   "cell_type": "code",
   "execution_count": 82,
   "id": "conventional-timber",
   "metadata": {},
   "outputs": [
    {
     "name": "stdout",
     "output_type": "stream",
     "text": [
      "foo one\n",
      "bar two\n",
      "baz three\n"
     ]
    }
   ],
   "source": [
    "for a, b in zipped:\n",
    "    print(a, b)"
   ]
  },
  {
   "cell_type": "code",
   "execution_count": 84,
   "id": "pursuant-series",
   "metadata": {},
   "outputs": [],
   "source": [
    "del list"
   ]
  },
  {
   "cell_type": "code",
   "execution_count": 86,
   "id": "pharmaceutical-rover",
   "metadata": {},
   "outputs": [
    {
     "data": {
      "text/plain": [
       "type"
      ]
     },
     "execution_count": 86,
     "metadata": {},
     "output_type": "execute_result"
    }
   ],
   "source": [
    "type(list)"
   ]
  },
  {
   "cell_type": "code",
   "execution_count": 87,
   "id": "lesser-fancy",
   "metadata": {},
   "outputs": [
    {
     "data": {
      "text/plain": [
       "list"
      ]
     },
     "execution_count": 87,
     "metadata": {},
     "output_type": "execute_result"
    }
   ],
   "source": [
    "list"
   ]
  },
  {
   "cell_type": "code",
   "execution_count": 90,
   "id": "blessed-equipment",
   "metadata": {},
   "outputs": [
    {
     "data": {
      "text/plain": [
       "<zip at 0x7ff598891700>"
      ]
     },
     "execution_count": 90,
     "metadata": {},
     "output_type": "execute_result"
    }
   ],
   "source": [
    "zipped"
   ]
  },
  {
   "cell_type": "code",
   "execution_count": 91,
   "id": "extra-radius",
   "metadata": {},
   "outputs": [
    {
     "data": {
      "text/plain": [
       "{1, 2, 3, 4}"
      ]
     },
     "execution_count": 91,
     "metadata": {},
     "output_type": "execute_result"
    }
   ],
   "source": [
    "{1, 2, 3, 4}"
   ]
  },
  {
   "cell_type": "code",
   "execution_count": 92,
   "id": "meaning-command",
   "metadata": {},
   "outputs": [],
   "source": [
    "a = {1, 2, 3, 4}"
   ]
  },
  {
   "cell_type": "code",
   "execution_count": 93,
   "id": "filled-diary",
   "metadata": {},
   "outputs": [],
   "source": [
    "b = {4, 5, 6, 7}"
   ]
  },
  {
   "cell_type": "code",
   "execution_count": 94,
   "id": "official-adrian",
   "metadata": {},
   "outputs": [
    {
     "data": {
      "text/plain": [
       "{1, 2, 3, 4, 5, 6, 7}"
      ]
     },
     "execution_count": 94,
     "metadata": {},
     "output_type": "execute_result"
    }
   ],
   "source": [
    "a.union(b)"
   ]
  },
  {
   "cell_type": "code",
   "execution_count": 95,
   "id": "alpha-landing",
   "metadata": {},
   "outputs": [
    {
     "data": {
      "text/plain": [
       "{1, 2, 3, 4}"
      ]
     },
     "execution_count": 95,
     "metadata": {},
     "output_type": "execute_result"
    }
   ],
   "source": [
    "a"
   ]
  },
  {
   "cell_type": "code",
   "execution_count": 96,
   "id": "educated-charles",
   "metadata": {},
   "outputs": [
    {
     "data": {
      "text/plain": [
       "{4, 5, 6, 7}"
      ]
     },
     "execution_count": 96,
     "metadata": {},
     "output_type": "execute_result"
    }
   ],
   "source": [
    "b"
   ]
  },
  {
   "cell_type": "code",
   "execution_count": 97,
   "id": "headed-reliance",
   "metadata": {},
   "outputs": [
    {
     "data": {
      "text/plain": [
       "{1, 2, 3, 4, 5, 6, 7}"
      ]
     },
     "execution_count": 97,
     "metadata": {},
     "output_type": "execute_result"
    }
   ],
   "source": [
    "a.union(b)"
   ]
  },
  {
   "cell_type": "code",
   "execution_count": 98,
   "id": "united-psychology",
   "metadata": {},
   "outputs": [
    {
     "data": {
      "text/plain": [
       "{4}"
      ]
     },
     "execution_count": 98,
     "metadata": {},
     "output_type": "execute_result"
    }
   ],
   "source": [
    "a & b"
   ]
  },
  {
   "cell_type": "code",
   "execution_count": 100,
   "id": "smart-arrow",
   "metadata": {},
   "outputs": [
    {
     "data": {
      "text/plain": [
       "{1, 2, 3, 4, 5, 6, 7}"
      ]
     },
     "execution_count": 100,
     "metadata": {},
     "output_type": "execute_result"
    }
   ],
   "source": [
    "a | b"
   ]
  },
  {
   "cell_type": "code",
   "execution_count": 101,
   "id": "unique-heaven",
   "metadata": {},
   "outputs": [
    {
     "data": {
      "text/plain": [
       "{1, 2, 3, 5, 6, 7}"
      ]
     },
     "execution_count": 101,
     "metadata": {},
     "output_type": "execute_result"
    }
   ],
   "source": [
    "a ^ b"
   ]
  },
  {
   "cell_type": "code",
   "execution_count": 105,
   "id": "binding-contract",
   "metadata": {},
   "outputs": [],
   "source": [
    "a = {1, 2, 2, 3, 4, 5, 6, 6}\n",
    "b = {2, 7, 8, 8, 10, 9, 9}"
   ]
  },
  {
   "cell_type": "code",
   "execution_count": 106,
   "id": "distinguished-governor",
   "metadata": {},
   "outputs": [
    {
     "data": {
      "text/plain": [
       "{1, 2, 3, 4, 5, 6, 7, 8, 9, 10}"
      ]
     },
     "execution_count": 106,
     "metadata": {},
     "output_type": "execute_result"
    }
   ],
   "source": [
    "a | b"
   ]
  },
  {
   "cell_type": "code",
   "execution_count": 107,
   "id": "democratic-headset",
   "metadata": {},
   "outputs": [
    {
     "data": {
      "text/plain": [
       "{1, 3, 4, 5, 6, 7, 8, 9, 10}"
      ]
     },
     "execution_count": 107,
     "metadata": {},
     "output_type": "execute_result"
    }
   ],
   "source": [
    "a ^ b"
   ]
  },
  {
   "cell_type": "code",
   "execution_count": 108,
   "id": "hungarian-parking",
   "metadata": {},
   "outputs": [
    {
     "data": {
      "text/plain": [
       "{1, 3, 4, 5, 6}"
      ]
     },
     "execution_count": 108,
     "metadata": {},
     "output_type": "execute_result"
    }
   ],
   "source": [
    "a - b"
   ]
  },
  {
   "cell_type": "code",
   "execution_count": 109,
   "id": "known-newspaper",
   "metadata": {},
   "outputs": [
    {
     "data": {
      "text/plain": [
       "{2}"
      ]
     },
     "execution_count": 109,
     "metadata": {},
     "output_type": "execute_result"
    }
   ],
   "source": [
    "a & b"
   ]
  },
  {
   "cell_type": "code",
   "execution_count": 110,
   "id": "becoming-vermont",
   "metadata": {},
   "outputs": [
    {
     "data": {
      "text/plain": [
       "[0, 2, 4, 6, 8, 10, 12, 14, 16, 18]"
      ]
     },
     "execution_count": 110,
     "metadata": {},
     "output_type": "execute_result"
    }
   ],
   "source": [
    "[i * 2 for i in range(10)]"
   ]
  },
  {
   "cell_type": "code",
   "execution_count": 111,
   "id": "verbal-patch",
   "metadata": {},
   "outputs": [
    {
     "data": {
      "text/plain": [
       "[]"
      ]
     },
     "execution_count": 111,
     "metadata": {},
     "output_type": "execute_result"
    }
   ],
   "source": [
    "[x.upper() for x in ['a', 'b', 'c', 'd'] if len(x) > 2]"
   ]
  },
  {
   "cell_type": "code",
   "execution_count": 121,
   "id": "corrected-pontiac",
   "metadata": {},
   "outputs": [],
   "source": [
    "from functools import partial\n",
    "\n",
    "def add_numbers(x, y):\n",
    "    return x + y\n",
    "    \n",
    "add_five = partial(add_numbers, 5)"
   ]
  },
  {
   "cell_type": "code",
   "execution_count": 122,
   "id": "whole-subject",
   "metadata": {},
   "outputs": [
    {
     "data": {
      "text/plain": [
       "15"
      ]
     },
     "execution_count": 122,
     "metadata": {},
     "output_type": "execute_result"
    }
   ],
   "source": [
    "add_five(10)"
   ]
  },
  {
   "cell_type": "code",
   "execution_count": 123,
   "id": "excessive-collection",
   "metadata": {},
   "outputs": [
    {
     "data": {
      "text/plain": [
       "<generator object <genexpr> at 0x7ff5981eb350>"
      ]
     },
     "execution_count": 123,
     "metadata": {},
     "output_type": "execute_result"
    }
   ],
   "source": [
    "gen = (x ** 2 for x in range(100))\n",
    "gen"
   ]
  },
  {
   "cell_type": "code",
   "execution_count": 124,
   "id": "equipped-riding",
   "metadata": {},
   "outputs": [],
   "source": [
    "import itertools"
   ]
  },
  {
   "cell_type": "code",
   "execution_count": 131,
   "id": "decimal-market",
   "metadata": {},
   "outputs": [
    {
     "name": "stdout",
     "output_type": "stream",
     "text": [
      "01.ipynb\r\n"
     ]
    }
   ],
   "source": [
    "ls"
   ]
  },
  {
   "cell_type": "code",
   "execution_count": 132,
   "id": "synthetic-arrest",
   "metadata": {},
   "outputs": [],
   "source": [
    "with open('01.ipynb') as f:\n",
    "    lines = [x.rstrip() for x in f]"
   ]
  },
  {
   "cell_type": "code",
   "execution_count": 133,
   "id": "brutal-retreat",
   "metadata": {},
   "outputs": [
    {
     "data": {
      "text/plain": [
       "['{',\n",
       " ' \"cells\": [',\n",
       " '  {',\n",
       " '   \"cell_type\": \"code\",',\n",
       " '   \"execution_count\": 1,',\n",
       " '   \"id\": \"continuous-input\",',\n",
       " '   \"metadata\": {},',\n",
       " '   \"outputs\": [],',\n",
       " '   \"source\": [',\n",
       " '    \"b = [1, 2, 3]\\\\n\",',\n",
       " '    \"b?  # 内省\"',\n",
       " '   ]',\n",
       " '  },',\n",
       " '  {',\n",
       " '   \"cell_type\": \"code\",',\n",
       " '   \"execution_count\": 2,',\n",
       " '   \"id\": \"colored-monday\",',\n",
       " '   \"metadata\": {},',\n",
       " '   \"outputs\": [],',\n",
       " '   \"source\": [',\n",
       " '    \"def add_numbers(a, b):\\\\n\",',\n",
       " '    \"    a + b\"',\n",
       " '   ]',\n",
       " '  },',\n",
       " '  {',\n",
       " '   \"cell_type\": \"code\",',\n",
       " '   \"execution_count\": 6,',\n",
       " '   \"id\": \"outstanding-slope\",',\n",
       " '   \"metadata\": {},',\n",
       " '   \"outputs\": [],',\n",
       " '   \"source\": [',\n",
       " '    \"add_numbers??\"',\n",
       " '   ]',\n",
       " '  },',\n",
       " '  {',\n",
       " '   \"cell_type\": \"code\",',\n",
       " '   \"execution_count\": 8,',\n",
       " '   \"id\": \"martial-action\",',\n",
       " '   \"metadata\": {},',\n",
       " '   \"outputs\": [],',\n",
       " '   \"source\": [',\n",
       " '    \"add_numbers?\"',\n",
       " '   ]',\n",
       " '  },',\n",
       " '  {',\n",
       " '   \"cell_type\": \"code\",',\n",
       " '   \"execution_count\": 14,',\n",
       " '   \"id\": \"brave-chuck\",',\n",
       " '   \"metadata\": {},',\n",
       " '   \"outputs\": [',\n",
       " '    {',\n",
       " '     \"name\": \"stdout\",',\n",
       " '     \"output_type\": \"stream\",',\n",
       " '     \"text\": [',\n",
       " '      \"60.7 µs ± 5.85 µs per loop (mean ± std. dev. of 7 runs, 10000 loops each)\\\\n\"',\n",
       " '     ]',\n",
       " '    }',\n",
       " '   ],',\n",
       " '   \"source\": [',\n",
       " '    \"import numpy as np\\\\n\",',\n",
       " '    \"a = np.random.randn(100, 100)\\\\n\",',\n",
       " '    \"%timeit np.dot(a ,a)\"',\n",
       " '   ]',\n",
       " '  },',\n",
       " '  {',\n",
       " '   \"cell_type\": \"code\",',\n",
       " '   \"execution_count\": 15,',\n",
       " '   \"id\": \"nominated-specification\",',\n",
       " '   \"metadata\": {},',\n",
       " '   \"outputs\": [',\n",
       " '    {',\n",
       " '     \"data\": {',\n",
       " '      \"text/plain\": [',\n",
       " '       \"\\'/home/bencode/work/d2l/da\\'\"',\n",
       " '      ]',\n",
       " '     },',\n",
       " '     \"execution_count\": 15,',\n",
       " '     \"metadata\": {},',\n",
       " '     \"output_type\": \"execute_result\"',\n",
       " '    }',\n",
       " '   ],',\n",
       " '   \"source\": [',\n",
       " '    \"%pwd\"',\n",
       " '   ]',\n",
       " '  },',\n",
       " '  {',\n",
       " '   \"cell_type\": \"code\",',\n",
       " '   \"execution_count\": 16,',\n",
       " '   \"id\": \"individual-final\",',\n",
       " '   \"metadata\": {},',\n",
       " '   \"outputs\": [],',\n",
       " '   \"source\": [',\n",
       " '    \"%quickref\"',\n",
       " '   ]',\n",
       " '  },',\n",
       " '  {',\n",
       " '   \"cell_type\": \"code\",',\n",
       " '   \"execution_count\": 17,',\n",
       " '   \"id\": \"latest-armenia\",',\n",
       " '   \"metadata\": {},',\n",
       " '   \"outputs\": [],',\n",
       " '   \"source\": [',\n",
       " '    \"%magic\"',\n",
       " '   ]',\n",
       " '  },',\n",
       " '  {',\n",
       " '   \"cell_type\": \"code\",',\n",
       " '   \"execution_count\": 18,',\n",
       " '   \"id\": \"illegal-binary\",',\n",
       " '   \"metadata\": {},',\n",
       " '   \"outputs\": [],',\n",
       " '   \"source\": [',\n",
       " '    \"%matplotlib inline\"',\n",
       " '   ]',\n",
       " '  },',\n",
       " '  {',\n",
       " '   \"cell_type\": \"code\",',\n",
       " '   \"execution_count\": 19,',\n",
       " '   \"id\": \"fitted-demographic\",',\n",
       " '   \"metadata\": {},',\n",
       " '   \"outputs\": [],',\n",
       " '   \"source\": [',\n",
       " '    \"import matplotlib.pyplot as plt\"',\n",
       " '   ]',\n",
       " '  },',\n",
       " '  {',\n",
       " '   \"cell_type\": \"code\",',\n",
       " '   \"execution_count\": 20,',\n",
       " '   \"id\": \"shared-kazakhstan\",',\n",
       " '   \"metadata\": {},',\n",
       " '   \"outputs\": [',\n",
       " '    {',\n",
       " '     \"data\": {',\n",
       " '      \"text/plain\": [',\n",
       " '       \"[<matplotlib.lines.Line2D at 0x7ff59880db80>]\"',\n",
       " '      ]',\n",
       " '     },',\n",
       " '     \"execution_count\": 20,',\n",
       " '     \"metadata\": {},',\n",
       " '     \"output_type\": \"execute_result\"',\n",
       " '    },',\n",
       " '    {',\n",
       " '     \"data\": {',\n",
       " '      \"image/png\": \"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\\\\n\",',\n",
       " '      \"text/plain\": [',\n",
       " '       \"<Figure size 432x288 with 1 Axes>\"',\n",
       " '      ]',\n",
       " '     },',\n",
       " '     \"metadata\": {',\n",
       " '      \"needs_background\": \"light\"',\n",
       " '     },',\n",
       " '     \"output_type\": \"display_data\"',\n",
       " '    }',\n",
       " '   ],',\n",
       " '   \"source\": [',\n",
       " '    \"plt.plot(np.random.randn(50).cumsum())\"',\n",
       " '   ]',\n",
       " '  },',\n",
       " '  {',\n",
       " '   \"cell_type\": \"code\",',\n",
       " '   \"execution_count\": 21,',\n",
       " '   \"id\": \"animated-rider\",',\n",
       " '   \"metadata\": {},',\n",
       " '   \"outputs\": [',\n",
       " '    {',\n",
       " '     \"data\": {',\n",
       " '      \"text/plain\": [',\n",
       " '       \"int\"',\n",
       " '      ]',\n",
       " '     },',\n",
       " '     \"execution_count\": 21,',\n",
       " '     \"metadata\": {},',\n",
       " '     \"output_type\": \"execute_result\"',\n",
       " '    }',\n",
       " '   ],',\n",
       " '   \"source\": [',\n",
       " '    \"a = 5\\\\n\",',\n",
       " '    \"type(a)\"',\n",
       " '   ]',\n",
       " '  },',\n",
       " '  {',\n",
       " '   \"cell_type\": \"code\",',\n",
       " '   \"execution_count\": 22,',\n",
       " '   \"id\": \"incomplete-express\",',\n",
       " '   \"metadata\": {},',\n",
       " '   \"outputs\": [',\n",
       " '    {',\n",
       " '     \"data\": {',\n",
       " '      \"text/plain\": [',\n",
       " '       \"str\"',\n",
       " '      ]',\n",
       " '     },',\n",
       " '     \"execution_count\": 22,',\n",
       " '     \"metadata\": {},',\n",
       " '     \"output_type\": \"execute_result\"',\n",
       " '    }',\n",
       " '   ],',\n",
       " '   \"source\": [',\n",
       " '    \"a = \\'foo\\'\\\\n\",',\n",
       " '    \"type(a)\"',\n",
       " '   ]',\n",
       " '  },',\n",
       " '  {',\n",
       " '   \"cell_type\": \"code\",',\n",
       " '   \"execution_count\": 23,',\n",
       " '   \"id\": \"asian-arrival\",',\n",
       " '   \"metadata\": {},',\n",
       " '   \"outputs\": [',\n",
       " '    {',\n",
       " '     \"data\": {',\n",
       " '      \"text/plain\": [',\n",
       " '       \"16\"',\n",
       " '      ]',\n",
       " '     },',\n",
       " '     \"execution_count\": 23,',\n",
       " '     \"metadata\": {},',\n",
       " '     \"output_type\": \"execute_result\"',\n",
       " '    }',\n",
       " '   ],',\n",
       " '   \"source\": [',\n",
       " '    \"a = 2\\\\n\",',\n",
       " '    \"b = 4\\\\n\",',\n",
       " '    \"a ** b\"',\n",
       " '   ]',\n",
       " '  },',\n",
       " '  {',\n",
       " '   \"cell_type\": \"code\",',\n",
       " '   \"execution_count\": 24,',\n",
       " '   \"id\": \"regulated-happening\",',\n",
       " '   \"metadata\": {},',\n",
       " '   \"outputs\": [',\n",
       " '    {',\n",
       " '     \"data\": {',\n",
       " '      \"text/plain\": [',\n",
       " '       \"0\"',\n",
       " '      ]',\n",
       " '     },',\n",
       " '     \"execution_count\": 24,',\n",
       " '     \"metadata\": {},',\n",
       " '     \"output_type\": \"execute_result\"',\n",
       " '    }',\n",
       " '   ],',\n",
       " '   \"source\": [',\n",
       " '    \"a // b\"',\n",
       " '   ]',\n",
       " '  },',\n",
       " '  {',\n",
       " '   \"cell_type\": \"code\",',\n",
       " '   \"execution_count\": 25,',\n",
       " '   \"id\": \"knowing-caribbean\",',\n",
       " '   \"metadata\": {},',\n",
       " '   \"outputs\": [',\n",
       " '    {',\n",
       " '     \"data\": {',\n",
       " '      \"text/plain\": [',\n",
       " '       \"33\"',\n",
       " '      ]',\n",
       " '     },',\n",
       " '     \"execution_count\": 25,',\n",
       " '     \"metadata\": {},',\n",
       " '     \"output_type\": \"execute_result\"',\n",
       " '    }',\n",
       " '   ],',\n",
       " '   \"source\": [',\n",
       " '    \"100 // 3\"',\n",
       " '   ]',\n",
       " '  },',\n",
       " '  {',\n",
       " '   \"cell_type\": \"code\",',\n",
       " '   \"execution_count\": 27,',\n",
       " '   \"id\": \"prepared-hobby\",',\n",
       " '   \"metadata\": {},',\n",
       " '   \"outputs\": [',\n",
       " '    {',\n",
       " '     \"data\": {',\n",
       " '      \"text/plain\": [',\n",
       " '       \"3540704419445075440820365734140450167485504\"',\n",
       " '      ]',\n",
       " '     },',\n",
       " '     \"execution_count\": 27,',\n",
       " '     \"metadata\": {},',\n",
       " '     \"output_type\": \"execute_result\"',\n",
       " '    }',\n",
       " '   ],',\n",
       " '   \"source\": [',\n",
       " '    \"ival = 12345678\\\\n\",',\n",
       " '    \"ival ** 6\"',\n",
       " '   ]',\n",
       " '  },',\n",
       " '  {',\n",
       " '   \"cell_type\": \"code\",',\n",
       " '   \"execution_count\": 28,',\n",
       " '   \"id\": \"coral-extent\",',\n",
       " '   \"metadata\": {},',\n",
       " '   \"outputs\": [],',\n",
       " '   \"source\": [',\n",
       " '    \"fval = 7.243\\\\n\",',\n",
       " '    \"fval2 = 6.78e-5\"',\n",
       " '   ]',\n",
       " '  },',\n",
       " '  {',\n",
       " '   \"cell_type\": \"code\",',\n",
       " '   \"execution_count\": 29,',\n",
       " '   \"id\": \"married-allergy\",',\n",
       " '   \"metadata\": {},',\n",
       " '   \"outputs\": [],',\n",
       " '   \"source\": [',\n",
       " '    \"c = \\\\\"\\\\\"\\\\\"\\\\n\",',\n",
       " '    \"This is a long string bat\\\\n\",',\n",
       " '    \"spans multiple lines\\\\n\",',\n",
       " '    \"\\\\\"\\\\\"\\\\\"\"',\n",
       " '   ]',\n",
       " '  },',\n",
       " '  {',\n",
       " '   \"cell_type\": \"code\",',\n",
       " '   \"execution_count\": 30,',\n",
       " '   \"id\": \"dangerous-karma\",',\n",
       " '   \"metadata\": {},',\n",
       " '   \"outputs\": [',\n",
       " '    {',\n",
       " '     \"data\": {',\n",
       " '      \"text/plain\": [',\n",
       " '       \"\\'5.6\\'\"',\n",
       " '      ]',\n",
       " '     },',\n",
       " '     \"execution_count\": 30,',\n",
       " '     \"metadata\": {},',\n",
       " '     \"output_type\": \"execute_result\"',\n",
       " '    }',\n",
       " '   ],',\n",
       " '   \"source\": [',\n",
       " '    \"a = 5.6\\\\n\",',\n",
       " '    \"str(a)\"',\n",
       " '   ]',\n",
       " '  },',\n",
       " '  {',\n",
       " '   \"cell_type\": \"code\",',\n",
       " '   \"execution_count\": 31,',\n",
       " '   \"id\": \"after-minneapolis\",',\n",
       " '   \"metadata\": {},',\n",
       " '   \"outputs\": [',\n",
       " '    {',\n",
       " '     \"data\": {',\n",
       " '      \"text/plain\": [',\n",
       " '       \"[\\'p\\', \\'y\\', \\'t\\', \\'h\\', \\'o\\', \\'n\\']\"',\n",
       " '      ]',\n",
       " '     },',\n",
       " '     \"execution_count\": 31,',\n",
       " '     \"metadata\": {},',\n",
       " '     \"output_type\": \"execute_result\"',\n",
       " '    }',\n",
       " '   ],',\n",
       " '   \"source\": [',\n",
       " '    \"s = \\'python\\'\\\\n\",',\n",
       " '    \"list(s)\"',\n",
       " '   ]',\n",
       " '  },',\n",
       " '  {',\n",
       " '   \"cell_type\": \"code\",',\n",
       " '   \"execution_count\": 32,',\n",
       " '   \"id\": \"desperate-thompson\",',\n",
       " '   \"metadata\": {},',\n",
       " '   \"outputs\": [',\n",
       " '    {',\n",
       " '     \"data\": {',\n",
       " '      \"text/plain\": [',\n",
       " '       \"\\'pyth\\'\"',\n",
       " '      ]',\n",
       " '     },',\n",
       " '     \"execution_count\": 32,',\n",
       " '     \"metadata\": {},',\n",
       " '     \"output_type\": \"execute_result\"',\n",
       " '    }',\n",
       " '   ],',\n",
       " '   \"source\": [',\n",
       " '    \"s[:4]\"',\n",
       " '   ]',\n",
       " '  },',\n",
       " '  {',\n",
       " '   \"cell_type\": \"code\",',\n",
       " '   \"execution_count\": 35,',\n",
       " '   \"id\": \"major-columbus\",',\n",
       " '   \"metadata\": {},',\n",
       " '   \"outputs\": [',\n",
       " '    {',\n",
       " '     \"data\": {',\n",
       " '      \"text/plain\": [',\n",
       " '       \"\\'4.55 Argentine Pesos are worth US$1\\'\"',\n",
       " '      ]',\n",
       " '     },',\n",
       " '     \"execution_count\": 35,',\n",
       " '     \"metadata\": {},',\n",
       " '     \"output_type\": \"execute_result\"',\n",
       " '    }',\n",
       " '   ],',\n",
       " '   \"source\": [',\n",
       " '    \"\\'{0:.2f} {1:s} are worth US${2:d}\\'.format(4.55, \\'Argentine Pesos\\', 1)\"',\n",
       " '   ]',\n",
       " '  },',\n",
       " '  {',\n",
       " '   \"cell_type\": \"code\",',\n",
       " '   \"execution_count\": 36,',\n",
       " '   \"id\": \"funny-tobago\",',\n",
       " '   \"metadata\": {},',\n",
       " '   \"outputs\": [',\n",
       " '    {',\n",
       " '     \"data\": {',\n",
       " '      \"text/plain\": [',\n",
       " '       \"True\"',\n",
       " '      ]',\n",
       " '     },',\n",
       " '     \"execution_count\": 36,',\n",
       " '     \"metadata\": {},',\n",
       " '     \"output_type\": \"execute_result\"',\n",
       " '    }',\n",
       " '   ],',\n",
       " '   \"source\": [',\n",
       " '    \"True and True\\\\n\"',\n",
       " '   ]',\n",
       " '  },',\n",
       " '  {',\n",
       " '   \"cell_type\": \"code\",',\n",
       " '   \"execution_count\": 38,',\n",
       " '   \"id\": \"stunning-scope\",',\n",
       " '   \"metadata\": {},',\n",
       " '   \"outputs\": [',\n",
       " '    {',\n",
       " '     \"data\": {',\n",
       " '      \"text/plain\": [',\n",
       " '       \"False\"',\n",
       " '      ]',\n",
       " '     },',\n",
       " '     \"execution_count\": 38,',\n",
       " '     \"metadata\": {},',\n",
       " '     \"output_type\": \"execute_result\"',\n",
       " '    }',\n",
       " '   ],',\n",
       " '   \"source\": [',\n",
       " '    \"fval = \\'3.1415926\\'\\\\n\",',\n",
       " '    \"float(fval)\\\\n\",',\n",
       " '    \"int(3.14)\\\\n\",',\n",
       " '    \"bool(fval)\\\\n\",',\n",
       " '    \"bool(0)\"',\n",
       " '   ]',\n",
       " '  },',\n",
       " '  {',\n",
       " '   \"cell_type\": \"code\",',\n",
       " '   \"execution_count\": 39,',\n",
       " '   \"id\": \"comprehensive-desktop\",',\n",
       " '   \"metadata\": {},',\n",
       " '   \"outputs\": [],',\n",
       " '   \"source\": [',\n",
       " '    \"a = None\"',\n",
       " '   ]',\n",
       " '  },',\n",
       " '  {',\n",
       " '   \"cell_type\": \"code\",',\n",
       " '   \"execution_count\": 40,',\n",
       " '   \"id\": \"bigger-affiliate\",',\n",
       " '   \"metadata\": {},',\n",
       " '   \"outputs\": [],',\n",
       " '   \"source\": [',\n",
       " '    \"if a is not None:\\\\n\",',\n",
       " '    \"    print(a)\"',\n",
       " '   ]',\n",
       " '  },',\n",
       " '  {',\n",
       " '   \"cell_type\": \"code\",',\n",
       " '   \"execution_count\": 41,',\n",
       " '   \"id\": \"determined-beijing\",',\n",
       " '   \"metadata\": {},',\n",
       " '   \"outputs\": [',\n",
       " '    {',\n",
       " '     \"data\": {',\n",
       " '      \"text/plain\": [',\n",
       " '       \"NoneType\"',\n",
       " '      ]',\n",
       " '     },',\n",
       " '     \"execution_count\": 41,',\n",
       " '     \"metadata\": {},',\n",
       " '     \"output_type\": \"execute_result\"',\n",
       " '    }',\n",
       " '   ],',\n",
       " '   \"source\": [',\n",
       " '    \"type(None)\"',\n",
       " '   ]',\n",
       " '  },',\n",
       " '  {',\n",
       " '   \"cell_type\": \"code\",',\n",
       " '   \"execution_count\": 42,',\n",
       " '   \"id\": \"signal-poland\",',\n",
       " '   \"metadata\": {},',\n",
       " '   \"outputs\": [',\n",
       " '    {',\n",
       " '     \"data\": {',\n",
       " '      \"text/plain\": [',\n",
       " '       \"30\"',\n",
       " '      ]',\n",
       " '     },',\n",
       " '     \"execution_count\": 42,',\n",
       " '     \"metadata\": {},',\n",
       " '     \"output_type\": \"execute_result\"',\n",
       " '    }',\n",
       " '   ],',\n",
       " '   \"source\": [',\n",
       " '    \"from datetime import datetime, date, time\\\\n\",',\n",
       " '    \"dt = datetime(2011, 10, 29, 20, 30, 21)\\\\n\",',\n",
       " '    \"dt.day\\\\n\",',\n",
       " '    \"dt.minute\"',\n",
       " '   ]',\n",
       " '  },',\n",
       " '  {',\n",
       " '   \"cell_type\": \"code\",',\n",
       " '   \"execution_count\": 43,',\n",
       " '   \"id\": \"centered-client\",',\n",
       " '   \"metadata\": {},',\n",
       " '   \"outputs\": [',\n",
       " '    {',\n",
       " '     \"data\": {',\n",
       " '      \"text/plain\": [',\n",
       " '       \"\\'10 29 2011 20:30\\'\"',\n",
       " '      ]',\n",
       " '     },',\n",
       " '     \"execution_count\": 43,',\n",
       " '     \"metadata\": {},',\n",
       " '     \"output_type\": \"execute_result\"',\n",
       " '    }',\n",
       " '   ],',\n",
       " '   \"source\": [',\n",
       " '    \"dt.strftime(\\'%m %d %Y %H:%M\\')\"',\n",
       " '   ]',\n",
       " '  },',\n",
       " '  {',\n",
       " '   \"cell_type\": \"code\",',\n",
       " '   \"execution_count\": 44,',\n",
       " '   \"id\": \"assigned-surfing\",',\n",
       " '   \"metadata\": {},',\n",
       " '   \"outputs\": [',\n",
       " '    {',\n",
       " '     \"data\": {',\n",
       " '      \"text/plain\": [',\n",
       " '       \"datetime.time(20, 30, 21)\"',\n",
       " '      ]',\n",
       " '     },',\n",
       " '     \"execution_count\": 44,',\n",
       " '     \"metadata\": {},',\n",
       " '     \"output_type\": \"execute_result\"',\n",
       " '    }',\n",
       " '   ],',\n",
       " '   \"source\": [',\n",
       " '    \"dt.time()\"',\n",
       " '   ]',\n",
       " '  },',\n",
       " '  {',\n",
       " '   \"cell_type\": \"code\",',\n",
       " '   \"execution_count\": 46,',\n",
       " '   \"id\": \"latter-import\",',\n",
       " '   \"metadata\": {},',\n",
       " '   \"outputs\": [',\n",
       " '    {',\n",
       " '     \"name\": \"stdout\",',\n",
       " '     \"output_type\": \"stream\",',\n",
       " '     \"text\": [',\n",
       " '      \"Equal to 0\\\\n\"',\n",
       " '     ]',\n",
       " '    }',\n",
       " '   ],',\n",
       " '   \"source\": [',\n",
       " '    \"x = 0\\\\n\",',\n",
       " '    \"if x < 0:\\\\n\",',\n",
       " '    \"    print(\\'It is negative\\')\\\\n\",',\n",
       " '    \"    \\\\n\",',\n",
       " '    \"if x < 0:\\\\n\",',\n",
       " '    \"    print(\\'a\\')\\\\n\",',\n",
       " '    \"elif x == 0:\\\\n\",',\n",
       " '    \"    print(\\'Equal to 0\\')\\\\n\",',\n",
       " '    \"elif 0 < x < 5:\\\\n\",',\n",
       " '    \"    print(\\'Positive but smaller than 5\\')\\\\n\",',\n",
       " '    \"else:\\\\n\",',\n",
       " '    \"    print(\\'c\\')\"',\n",
       " '   ]',\n",
       " '  },',\n",
       " '  {',\n",
       " '   \"cell_type\": \"code\",',\n",
       " '   \"execution_count\": 47,',\n",
       " '   \"id\": \"reduced-newton\",',\n",
       " '   \"metadata\": {},',\n",
       " '   \"outputs\": [',\n",
       " '    {',\n",
       " '     \"data\": {',\n",
       " '      \"text/plain\": [',\n",
       " '       \"True\"',\n",
       " '      ]',\n",
       " '     },',\n",
       " '     \"execution_count\": 47,',\n",
       " '     \"metadata\": {},',\n",
       " '     \"output_type\": \"execute_result\"',\n",
       " '    }',\n",
       " '   ],',\n",
       " '   \"source\": [',\n",
       " '    \"4 > 3 > 2 > 1\"',\n",
       " '   ]',\n",
       " '  },',\n",
       " '  {',\n",
       " '   \"cell_type\": \"code\",',\n",
       " '   \"execution_count\": 48,',\n",
       " '   \"id\": \"applicable-desktop\",',\n",
       " '   \"metadata\": {},',\n",
       " '   \"outputs\": [],',\n",
       " '   \"source\": [',\n",
       " '    \"se = [1, 2, None, 5]\\\\n\",',\n",
       " '    \"total = 0\\\\n\",',\n",
       " '    \"for value in se:\\\\n\",',\n",
       " '    \"    if value is None:\\\\n\",',\n",
       " '    \"        continue\\\\n\",',\n",
       " '    \"    total += value\"',\n",
       " '   ]',\n",
       " '  },',\n",
       " '  {',\n",
       " '   \"cell_type\": \"code\",',\n",
       " '   \"execution_count\": 49,',\n",
       " '   \"id\": \"buried-martin\",',\n",
       " '   \"metadata\": {},',\n",
       " '   \"outputs\": [',\n",
       " '    {',\n",
       " '     \"data\": {',\n",
       " '      \"text/plain\": [',\n",
       " '       \"[0, 1, 2, 3, 4, 5, 6, 7, 8, 9]\"',\n",
       " '      ]',\n",
       " '     },',\n",
       " '     \"execution_count\": 49,',\n",
       " '     \"metadata\": {},',\n",
       " '     \"output_type\": \"execute_result\"',\n",
       " '    }',\n",
       " '   ],',\n",
       " '   \"source\": [',\n",
       " '    \"list(range(10))\"',\n",
       " '   ]',\n",
       " '  },',\n",
       " '  {',\n",
       " '   \"cell_type\": \"code\",',\n",
       " '   \"execution_count\": 50,',\n",
       " '   \"id\": \"adjustable-potter\",',\n",
       " '   \"metadata\": {},',\n",
       " '   \"outputs\": [],',\n",
       " '   \"source\": [',\n",
       " '    \"value = 1 if 2 > 1 else 0\"',\n",
       " '   ]',\n",
       " '  },',\n",
       " '  {',\n",
       " '   \"cell_type\": \"code\",',\n",
       " '   \"execution_count\": 51,',\n",
       " '   \"id\": \"severe-spectacular\",',\n",
       " '   \"metadata\": {},',\n",
       " '   \"outputs\": [',\n",
       " '    {',\n",
       " '     \"data\": {',\n",
       " '      \"text/plain\": [',\n",
       " '       \"1\"',\n",
       " '      ]',\n",
       " '     },',\n",
       " '     \"execution_count\": 51,',\n",
       " '     \"metadata\": {},',\n",
       " '     \"output_type\": \"execute_result\"',\n",
       " '    }',\n",
       " '   ],',\n",
       " '   \"source\": [',\n",
       " '    \"value\"',\n",
       " '   ]',\n",
       " '  },',\n",
       " '  {',\n",
       " '   \"cell_type\": \"code\",',\n",
       " '   \"execution_count\": 52,',\n",
       " '   \"id\": \"valuable-earthquake\",',\n",
       " '   \"metadata\": {},',\n",
       " '   \"outputs\": [],',\n",
       " '   \"source\": [',\n",
       " '    \"tup = 4, 5, 6\"',\n",
       " '   ]',\n",
       " '  },',\n",
       " '  {',\n",
       " '   \"cell_type\": \"code\",',\n",
       " '   \"execution_count\": 53,',\n",
       " '   \"id\": \"rubber-malaysia\",',\n",
       " '   \"metadata\": {},',\n",
       " '   \"outputs\": [',\n",
       " '    {',\n",
       " '     \"data\": {',\n",
       " '      \"text/plain\": [',\n",
       " '       \"(4, 5, 6)\"',\n",
       " '      ]',\n",
       " '     },',\n",
       " '     \"execution_count\": 53,',\n",
       " '     \"metadata\": {},',\n",
       " '     \"output_type\": \"execute_result\"',\n",
       " '    }',\n",
       " '   ],',\n",
       " '   \"source\": [',\n",
       " '    \"tup\"',\n",
       " '   ]',\n",
       " '  },',\n",
       " '  {',\n",
       " '   \"cell_type\": \"code\",',\n",
       " '   \"execution_count\": 54,',\n",
       " '   \"id\": \"viral-purple\",',\n",
       " '   \"metadata\": {},',\n",
       " '   \"outputs\": [',\n",
       " '    {',\n",
       " '     \"data\": {',\n",
       " '      \"text/plain\": [',\n",
       " '       \"4\"',\n",
       " '      ]',\n",
       " '     },',\n",
       " '     \"execution_count\": 54,',\n",
       " '     \"metadata\": {},',\n",
       " '     \"output_type\": \"execute_result\"',\n",
       " '    }',\n",
       " '   ],',\n",
       " '   \"source\": [',\n",
       " '    \"tup[0]\"',\n",
       " '   ]',\n",
       " '  },',\n",
       " '  {',\n",
       " '   \"cell_type\": \"code\",',\n",
       " '   \"execution_count\": 56,',\n",
       " '   \"id\": \"living-sigma\",',\n",
       " '   \"metadata\": {},',\n",
       " '   \"outputs\": [],',\n",
       " '   \"source\": [',\n",
       " '    \"a, b, _ = tup\"',\n",
       " '   ]',\n",
       " '  },',\n",
       " '  {',\n",
       " '   \"cell_type\": \"code\",',\n",
       " '   \"execution_count\": 58,',\n",
       " '   \"id\": \"wrong-dollar\",',\n",
       " '   \"metadata\": {},',\n",
       " '   \"outputs\": [',\n",
       " '    {',\n",
       " '     \"data\": {',\n",
       " '      \"text/plain\": [',\n",
       " '       \"(4, 5)\"',\n",
       " '      ]',\n",
       " '     },',\n",
       " '     \"execution_count\": 58,',\n",
       " '     \"metadata\": {},',\n",
       " '     \"output_type\": \"execute_result\"',\n",
       " '    }',\n",
       " '   ],',\n",
       " '   \"source\": [',\n",
       " '    \"a, b\"',\n",
       " '   ]',\n",
       " '  },',\n",
       " '  {',\n",
       " '   \"cell_type\": \"code\",',\n",
       " '   \"execution_count\": 59,',\n",
       " '   \"id\": \"sought-inside\",',\n",
       " '   \"metadata\": {},',\n",
       " '   \"outputs\": [],',\n",
       " '   \"source\": [',\n",
       " '    \"values = 1, 2, 3, 4, 5, 6\"',\n",
       " '   ]',\n",
       " '  },',\n",
       " '  {',\n",
       " '   \"cell_type\": \"code\",',\n",
       " '   \"execution_count\": 60,',\n",
       " '   \"id\": \"empirical-persian\",',\n",
       " '   \"metadata\": {},',\n",
       " '   \"outputs\": [],',\n",
       " '   \"source\": [',\n",
       " '    \"a, b, *_ = values\"',\n",
       " '   ]',\n",
       " '  },',\n",
       " '  {',\n",
       " '   \"cell_type\": \"code\",',\n",
       " '   \"execution_count\": 61,',\n",
       " '   \"id\": \"detailed-footwear\",',\n",
       " '   \"metadata\": {},',\n",
       " '   \"outputs\": [',\n",
       " '    {',\n",
       " '     \"data\": {',\n",
       " '      \"text/plain\": [',\n",
       " '       \"(1, 2)\"',\n",
       " '      ]',\n",
       " '     },',\n",
       " '     \"execution_count\": 61,',\n",
       " '     \"metadata\": {},',\n",
       " '     \"output_type\": \"execute_result\"',\n",
       " '    }',\n",
       " '   ],',\n",
       " '   \"source\": [',\n",
       " '    \"a, b\"',\n",
       " '   ]',\n",
       " '  },',\n",
       " '  {',\n",
       " '   \"cell_type\": \"code\",',\n",
       " '   \"execution_count\": 63,',\n",
       " '   \"id\": \"utility-portable\",',\n",
       " '   \"metadata\": {},',\n",
       " '   \"outputs\": [',\n",
       " '    {',\n",
       " '     \"data\": {',\n",
       " '      \"text/plain\": [',\n",
       " '       \"1\"',\n",
       " '      ]',\n",
       " '     },',\n",
       " '     \"execution_count\": 63,',\n",
       " '     \"metadata\": {},',\n",
       " '     \"output_type\": \"execute_result\"',\n",
       " '    }',\n",
       " '   ],',\n",
       " '   \"source\": [',\n",
       " '    \"values.count(1)\"',\n",
       " '   ]',\n",
       " '  },',\n",
       " '  {',\n",
       " '   \"cell_type\": \"code\",',\n",
       " '   \"execution_count\": 64,',\n",
       " '   \"id\": \"efficient-seven\",',\n",
       " '   \"metadata\": {},',\n",
       " '   \"outputs\": [],',\n",
       " '   \"source\": [',\n",
       " '    \"a = (1, 1, 2, 3, 4, 4, 5, 5, 5)\"',\n",
       " '   ]',\n",
       " '  },',\n",
       " '  {',\n",
       " '   \"cell_type\": \"code\",',\n",
       " '   \"execution_count\": 65,',\n",
       " '   \"id\": \"behind-montreal\",',\n",
       " '   \"metadata\": {},',\n",
       " '   \"outputs\": [',\n",
       " '    {',\n",
       " '     \"data\": {',\n",
       " '      \"text/plain\": [',\n",
       " '       \"2\"',\n",
       " '      ]',\n",
       " '     },',\n",
       " '     \"execution_count\": 65,',\n",
       " '     \"metadata\": {},',\n",
       " '     \"output_type\": \"execute_result\"',\n",
       " '    }',\n",
       " '   ],',\n",
       " '   \"source\": [',\n",
       " '    \"a.count(4)\"',\n",
       " '   ]',\n",
       " '  },',\n",
       " '  {',\n",
       " '   \"cell_type\": \"code\",',\n",
       " '   \"execution_count\": 67,',\n",
       " '   \"id\": \"piano-target\",',\n",
       " '   \"metadata\": {},',\n",
       " '   \"outputs\": [],',\n",
       " '   \"source\": [',\n",
       " '    \"list = [1, 2, 3]\\\\n\",',\n",
       " '    \"list.append(1)\"',\n",
       " '   ]',\n",
       " '  },',\n",
       " '  {',\n",
       " '   \"cell_type\": \"code\",',\n",
       " '   \"execution_count\": 68,',\n",
       " '   \"id\": \"future-circuit\",',\n",
       " '   \"metadata\": {},',\n",
       " '   \"outputs\": [',\n",
       " '    {',\n",
       " '     \"data\": {',\n",
       " '      \"text/plain\": [',\n",
       " '       \"[1, 2, 3, 7, 8, 9]\"',\n",
       " '      ]',\n",
       " '     },',\n",
       " '     \"execution_count\": 68,',\n",
       " '     \"metadata\": {},',\n",
       " '     \"output_type\": \"execute_result\"',\n",
       " '    }',\n",
       " '   ],',\n",
       " '   \"source\": [',\n",
       " '    \"[1, 2, 3] + [7, 8, 9]\"',\n",
       " '   ]',\n",
       " '  },',\n",
       " '  {',\n",
       " '   \"cell_type\": \"code\",',\n",
       " '   \"execution_count\": 69,',\n",
       " '   \"id\": \"industrial-latex\",',\n",
       " '   \"metadata\": {},',\n",
       " '   \"outputs\": [],',\n",
       " '   \"source\": [',\n",
       " '    \"a = [7, 2, 5, 1, 3]\"',\n",
       " '   ]',\n",
       " '  },',\n",
       " '  {',\n",
       " '   \"cell_type\": \"code\",',\n",
       " '   \"execution_count\": 70,',\n",
       " '   \"id\": \"sporting-single\",',\n",
       " '   \"metadata\": {},',\n",
       " '   \"outputs\": [],',\n",
       " '   \"source\": [',\n",
       " '    \"a.sort()\"',\n",
       " '   ]',\n",
       " '  },',\n",
       " '  {',\n",
       " '   \"cell_type\": \"code\",',\n",
       " '   \"execution_count\": 71,',\n",
       " '   \"id\": \"fourth-andrew\",',\n",
       " '   \"metadata\": {},',\n",
       " '   \"outputs\": [',\n",
       " '    {',\n",
       " '     \"data\": {',\n",
       " '      \"text/plain\": [',\n",
       " '       \"[1, 2, 3, 5, 7]\"',\n",
       " '      ]',\n",
       " '     },',\n",
       " '     \"execution_count\": 71,',\n",
       " '     \"metadata\": {},',\n",
       " '     \"output_type\": \"execute_result\"',\n",
       " '    }',\n",
       " '   ],',\n",
       " '   \"source\": [',\n",
       " '    \"a\"',\n",
       " '   ]',\n",
       " '  },',\n",
       " '  {',\n",
       " '   \"cell_type\": \"code\",',\n",
       " '   \"execution_count\": 72,',\n",
       " '   \"id\": \"irish-playlist\",',\n",
       " '   \"metadata\": {},',\n",
       " '   \"outputs\": [',\n",
       " '    {',\n",
       " '     \"name\": \"stdout\",',\n",
       " '     \"output_type\": \"stream\",',\n",
       " '     \"text\": [',\n",
       " '      \"345\\\\n\",',\n",
       " '      \"123\\\\n\",',\n",
       " '      \"455\\\\n\"',\n",
       " '     ]',\n",
       " '    }',\n",
       " '   ],',\n",
       " '   \"source\": [',\n",
       " '    \"col = [345, 123, 455]\\\\n\",',\n",
       " '    \"for value in col:\\\\n\",',\n",
       " '    \"    print(value)\"',\n",
       " '   ]',\n",
       " '  },',\n",
       " '  {',\n",
       " '   \"cell_type\": \"code\",',\n",
       " '   \"execution_count\": 73,',\n",
       " '   \"id\": \"tender-plane\",',\n",
       " '   \"metadata\": {},',\n",
       " '   \"outputs\": [',\n",
       " '    {',\n",
       " '     \"name\": \"stdout\",',\n",
       " '     \"output_type\": \"stream\",',\n",
       " '     \"text\": [',\n",
       " '      \"0 345\\\\n\",',\n",
       " '      \"1 123\\\\n\",',\n",
       " '      \"2 455\\\\n\"',\n",
       " '     ]',\n",
       " '    }',\n",
       " '   ],',\n",
       " '   \"source\": [',\n",
       " '    \"for i, value in enumerate(col):\\\\n\",',\n",
       " '    \"    print(i, value)\"',\n",
       " '   ]',\n",
       " '  },',\n",
       " '  {',\n",
       " '   \"cell_type\": \"code\",',\n",
       " '   \"execution_count\": 74,',\n",
       " '   \"id\": \"general-active\",',\n",
       " '   \"metadata\": {},',\n",
       " '   \"outputs\": [',\n",
       " '    {',\n",
       " '     \"data\": {',\n",
       " '      \"text/plain\": [',\n",
       " '       \"[0, 1, 2, 2, 3, 6, 7]\"',\n",
       " '      ]',\n",
       " '     },',\n",
       " '     \"execution_count\": 74,',\n",
       " '     \"metadata\": {},',\n",
       " '     \"output_type\": \"execute_result\"',\n",
       " '    }',\n",
       " '   ],',\n",
       " '   \"source\": [',\n",
       " '    \"sorted([7, 1, 2, 6, 0, 3, 2])\"',\n",
       " '   ]',\n",
       " '  },',\n",
       " '  {',\n",
       " '   \"cell_type\": \"code\",',\n",
       " '   \"execution_count\": 78,',\n",
       " '   \"id\": \"beautiful-clothing\",',\n",
       " '   \"metadata\": {},',\n",
       " '   \"outputs\": [',\n",
       " '    {',\n",
       " '     \"data\": {',\n",
       " '      \"text/plain\": [',\n",
       " '       \"<zip at 0x7ff59890ccc0>\"',\n",
       " '      ]',\n",
       " '     },',\n",
       " '     \"execution_count\": 78,',\n",
       " '     \"metadata\": {},',\n",
       " '     \"output_type\": \"execute_result\"',\n",
       " '    }',\n",
       " '   ],',\n",
       " ...]"
      ]
     },
     "execution_count": 133,
     "metadata": {},
     "output_type": "execute_result"
    }
   ],
   "source": [
    "lines"
   ]
  }
 ],
 "metadata": {
  "kernelspec": {
   "display_name": "Python 3",
   "language": "python",
   "name": "python3"
  },
  "language_info": {
   "codemirror_mode": {
    "name": "ipython",
    "version": 3
   },
   "file_extension": ".py",
   "mimetype": "text/x-python",
   "name": "python",
   "nbconvert_exporter": "python",
   "pygments_lexer": "ipython3",
   "version": "3.9.1"
  }
 },
 "nbformat": 4,
 "nbformat_minor": 5
}
